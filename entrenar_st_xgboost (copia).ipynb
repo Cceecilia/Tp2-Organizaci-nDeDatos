{
 "cells": [
  {
   "cell_type": "code",
   "execution_count": 1,
   "metadata": {},
   "outputs": [],
   "source": [
    "import pandas as pd\n",
    "import numpy as np"
   ]
  },
  {
   "cell_type": "code",
   "execution_count": 11,
   "metadata": {},
   "outputs": [],
   "source": [
    "df1 = pd.read_csv('entrenar_st_1820.csv')\n",
    "df2 = pd.read_csv('entrenar_st_1921.csv')\n",
    "df3 = pd.read_csv('entrenar_st_2022.csv')\n",
    "df4 = pd.read_csv('entrenar_st_2123.csv')\n",
    "archivos = [df1,df2,df3,df4]"
   ]
  },
  {
   "cell_type": "code",
   "execution_count": 3,
   "metadata": {},
   "outputs": [],
   "source": [
    "import xgboost as xgb\n",
    "from sklearn.metrics import mean_squared_error\n",
    "from sklearn.model_selection import train_test_split"
   ]
  },
  {
   "cell_type": "code",
   "execution_count": 9,
   "metadata": {},
   "outputs": [],
   "source": [
    "def buscar_parametros_xgboost_st(colsampleT,learnR,depthM,alfa,estimators):\n",
    "    xg_reg = xgb.XGBRegressor(objective ='reg:linear', \n",
    "            colsample_bytree = colsampleT, learning_rate = learnR,\n",
    "            max_depth = depthM, alpha = alfa, n_estimators = estimators) \n",
    "    \n",
    "    suma_errores = 0\n",
    "    for df in archivos:\n",
    "        X,y = df.drop(['ref_hash','segundos'],axis=1),df['segundos']\n",
    "        X_train, X_test, y_train, y_test = \\\n",
    "        train_test_split(X, y, test_size=0.2, random_state=150)\n",
    "\n",
    "        xg_reg.fit(X_train,y_train)\n",
    "        preds = xg_reg.predict(X_test)\n",
    "        rmse = np.sqrt(mean_squared_error(y_test, preds))\n",
    "        suma_errores += rmse\n",
    "       \n",
    "    error_promedio = suma_errores / len(archivos)\n",
    "    print('RMSE promedio: %f' % (error_promedio))\n",
    "    return (error_promedio)"
   ]
  },
  {
   "cell_type": "code",
   "execution_count": 12,
   "metadata": {},
   "outputs": [
    {
     "name": "stdout",
     "output_type": "stream",
     "text": [
      "Colsample_bytree: 0.500000\n",
      "RMSE promedio: 100148.740004\n",
      "Colsample_bytree: 0.700000\n",
      "RMSE promedio: 99968.928405\n",
      "Colsample_bytree: 0.900000\n",
      "RMSE promedio: 99720.538544\n",
      "Colsample_bytree: 1.000000\n",
      "RMSE promedio: 99685.075814\n",
      "Error minimo 99685.075814 con valor 1.000000\n"
     ]
    }
   ],
   "source": [
    "colsampleT = 0.5\n",
    "learnR = 0.1\n",
    "depthM = 5\n",
    "alfa = 10\n",
    "estimators = 10\n",
    "errores = []\n",
    "for v in [0.5,0.7,0.9,1]:\n",
    "    colsampleT = v\n",
    "    print('Colsample_bytree: %f'% (v))\n",
    "    error = buscar_parametros_xgboost_st(colsampleT,learnR,depthM,alfa,estimators)\n",
    "    errores.append([error,v])\n",
    "error,v = min(errores,key=lambda x: x[0])\n",
    "print('Error minimo %f con valor %f' %(error,v))"
   ]
  },
  {
   "cell_type": "code",
   "execution_count": 15,
   "metadata": {},
   "outputs": [
    {
     "name": "stdout",
     "output_type": "stream",
     "text": [
      "Learning_rate: 0.100000\n",
      "RMSE promedio: 99685.075814\n",
      "Learning_rate: 0.300000\n",
      "RMSE promedio: 83880.348647\n",
      "Learning_rate: 0.500000\n",
      "RMSE promedio: 83747.933263\n",
      "Learning_rate: 0.700000\n",
      "RMSE promedio: 83847.378364\n",
      "Learning_rate: 0.900000\n",
      "RMSE promedio: 83924.984127\n",
      "Learning_rate: 1.100000\n",
      "RMSE promedio: 84081.706351\n",
      "Error minimo 83747.933263 con valor 0.500000\n"
     ]
    }
   ],
   "source": [
    "colsampleT = 1\n",
    "learnR = 0.1\n",
    "depthM = 5\n",
    "alfa = 10\n",
    "estimators = 10\n",
    "errores = []\n",
    "for v in [0.1,0.3,0.5,0.7,0.9,1.1]:\n",
    "    learnR = v\n",
    "    print('Learning_rate: %f'% (v))\n",
    "    error = buscar_parametros_xgboost_st(colsampleT,learnR,depthM,alfa,estimators)\n",
    "    errores.append([error,v])\n",
    "error,v = min(errores,key=lambda x: x[0])\n",
    "print('Error minimo %f con valor %f' %(error,v))"
   ]
  },
  {
   "cell_type": "code",
   "execution_count": 16,
   "metadata": {},
   "outputs": [
    {
     "name": "stdout",
     "output_type": "stream",
     "text": [
      "Depth: 2.000000\n",
      "RMSE promedio: 85534.715617\n",
      "Depth: 5.000000\n",
      "RMSE promedio: 83747.933263\n",
      "Depth: 8.000000\n",
      "RMSE promedio: 83793.726774\n",
      "Depth: 12.000000\n",
      "RMSE promedio: 84950.995488\n",
      "Depth: 15.000000\n",
      "RMSE promedio: 86562.758890\n",
      "Depth: 20.000000\n",
      "RMSE promedio: 89441.275765\n",
      "Error minimo 83747.933263 con valor 5.000000\n"
     ]
    }
   ],
   "source": [
    "colsampleT = 1\n",
    "learnR = 0.5\n",
    "depthM = 5\n",
    "alfa = 10\n",
    "estimators = 10\n",
    "errores = []\n",
    "for v in [2,5,8,12,15,20]:\n",
    "    depthM = v\n",
    "    print('Depth: %f'% (v))\n",
    "    error = buscar_parametros_xgboost_st(colsampleT,learnR,depthM,alfa,estimators)\n",
    "    errores.append([error,v])\n",
    "error,v = min(errores,key=lambda x: x[0])\n",
    "print('Error minimo %f con valor %f' %(error,v))"
   ]
  },
  {
   "cell_type": "code",
   "execution_count": 18,
   "metadata": {},
   "outputs": [
    {
     "name": "stdout",
     "output_type": "stream",
     "text": [
      "Alpha: 8.000000\n",
      "RMSE promedio: 83747.933263\n",
      "Alpha: 10.000000\n",
      "RMSE promedio: 83747.933263\n",
      "Alpha: 12.000000\n",
      "RMSE promedio: 83747.933263\n",
      "Error minimo 83747.933263 con valor 8.000000\n"
     ]
    }
   ],
   "source": [
    "colsampleT = 1\n",
    "learnR = 0.5\n",
    "depthM = 5\n",
    "alfa = 10\n",
    "estimators = 10\n",
    "errores = []\n",
    "for v in [8,10,12]:\n",
    "    alfa = v\n",
    "    print('Alpha: %f'% (v))\n",
    "    error = buscar_parametros_xgboost_st(colsampleT,learnR,depthM,alfa,estimators)\n",
    "    errores.append([error,v])\n",
    "error,v = min(errores,key=lambda x: x[0])\n",
    "print('Error minimo %f con valor %f' %(error,v))"
   ]
  },
  {
   "cell_type": "code",
   "execution_count": 21,
   "metadata": {},
   "outputs": [
    {
     "name": "stdout",
     "output_type": "stream",
     "text": [
      "Estimators: 10.000000\n",
      "RMSE promedio: 83747.933263\n",
      "Estimators: 20.000000\n",
      "RMSE promedio: 83706.038511\n",
      "Estimators: 30.000000\n",
      "RMSE promedio: 83691.435737\n",
      "Estimators: 40.000000\n",
      "RMSE promedio: 83703.665094\n",
      "Estimators: 50.000000\n",
      "RMSE promedio: 83722.044262\n",
      "Error minimo 83691.435737 con valor 30.000000\n"
     ]
    }
   ],
   "source": [
    "colsampleT = 1\n",
    "learnR = 0.5\n",
    "depthM = 5\n",
    "alfa = 10\n",
    "estimators = 10\n",
    "errores = []\n",
    "for v in [10,20,30,40,50]:\n",
    "    estimators = v\n",
    "    print('Estimators: %f'% (v))\n",
    "    error = buscar_parametros_xgboost_st(colsampleT,learnR,depthM,alfa,estimators)\n",
    "    errores.append([error,v])\n",
    "error,v = min(errores,key=lambda x: x[0])\n",
    "print('Error minimo %f con valor %f' %(error,v))"
   ]
  },
  {
   "cell_type": "markdown",
   "metadata": {},
   "source": [
    "## Importancia de features"
   ]
  },
  {
   "cell_type": "code",
   "execution_count": 7,
   "metadata": {},
   "outputs": [
    {
     "data": {
      "image/png": "[encoded data removed]",
      "text/plain": [
       "<matplotlib.figure.Figure at 0x7f3af6470c50>"
      ]
     },
     "metadata": {
      "needs_background": "light"
     },
     "output_type": "display_data"
    },
    {
     "data": {
      "image/png": "[encoded data removed]",
      "text/plain": [
       "<matplotlib.figure.Figure at 0x7f3af635bb10>"
      ]
     },
     "metadata": {
      "needs_background": "light"
     },
     "output_type": "display_data"
    },
    {
     "data": {
      "image/png": "[encoded data removed]",
      "text/plain": [
       "<matplotlib.figure.Figure at 0x7f3af40d8b90>"
      ]
     },
     "metadata": {
      "needs_background": "light"
     },
     "output_type": "display_data"
    },
    {
     "data": {
      "image/png": "[encoded data removed]",
      "text/plain": [
       "<matplotlib.figure.Figure at 0x7f3af41cd7d0>"
      ]
     },
     "metadata": {
      "needs_background": "light"
     },
     "output_type": "display_data"
    }
   ],
   "source": [
    "for df in archivos:\n",
    "    X,y = df.drop(['ref_hash','segundos'],axis=1),df['segundos']\n",
    "    data_dmatrix = xgb.DMatrix(data=X,label=y)\n",
    "    params = {\"objective\":\"reg:linear\",'colsample_bytree': 1,\n",
    "              'learning_rate': 0.5, 'max_depth': 5, 'alpha': 10}\n",
    "    xg_reg = xgb.train(params=params, dtrain=data_dmatrix, num_boost_round=10)\n",
    "    xgb.plot_importance(xg_reg)"
   ]
  },
  {
   "cell_type": "code",
   "execution_count": 12,
   "metadata": {},
   "outputs": [
    {
     "name": "stdout",
     "output_type": "stream",
     "text": [
      "          ref_hash  s_source_id  s_ref_type1   s_t_min       s_t_prom  \\\n",
      "0   41863526108385     0.122122          1.0  157228.0  185636.171429   \n",
      "1  135153013040192     0.508547          1.0  187854.0  188381.875000   \n",
      "\n",
      "    s_t_max  s_ref_type_7  s_#subastas   e_kind  e_app_id  e_event_id  \\\n",
      "0  189019.0           0.0         35.0  0.12664  0.211054    0.126202   \n",
      "1  188652.0           0.0          8.0  0.00000  0.000000    0.000000   \n",
      "\n",
      "   e_#wifi  e_#atribuidos  e_#eventos       e_t_prom  segundos     s_t_prom#  \n",
      "0      0.0            0.0        88.0  140062.647727  259200.0  6.497266e+06  \n",
      "1      0.0            0.0         0.0  259200.000000  259200.0  1.507055e+06  \n",
      "          ref_hash  s_source_id  s_ref_type1   s_t_min       s_t_prom  \\\n",
      "0   41863526108385     0.122257          1.0   70828.0   99236.171429   \n",
      "1  135153013040192     0.507354          1.0  101454.0  101981.875000   \n",
      "\n",
      "    s_t_max  s_ref_type_7  s_#subastas    e_kind  e_app_id  e_event_id  \\\n",
      "0  102619.0           0.0         35.0  0.147983  0.261183    0.147484   \n",
      "1  102252.0           0.0          8.0  0.000000  0.000000    0.000000   \n",
      "\n",
      "   e_#wifi  e_#atribuidos  e_#eventos       e_t_prom  segundos     s_t_prom#  \n",
      "0      0.0            0.0        72.0   88923.736111  259200.0  3.473266e+06  \n",
      "1      0.0            0.0         0.0  259200.000000  259200.0  8.158550e+05  \n",
      "          ref_hash  s_source_id  s_ref_type1  s_t_min      s_t_prom  s_t_max  \\\n",
      "0   41863526108385     0.124705          1.0  10346.0  13671.705882  16219.0   \n",
      "1  135153013040192     0.516090          1.0  15054.0  15581.875000  15852.0   \n",
      "\n",
      "   s_ref_type_7  s_#subastas    e_kind  e_app_id  e_event_id  e_#wifi  \\\n",
      "0           0.0         34.0  0.146337   0.26299    0.145857      0.0   \n",
      "1           0.0          8.0  0.000000   0.00000    0.000000      0.0   \n",
      "\n",
      "   e_#atribuidos  e_#eventos       e_t_prom  segundos      s_t_prom#  \n",
      "0            0.0        51.0   31455.568627  259200.0  464838.000002  \n",
      "1            0.0         0.0  259200.000000  259200.0  124655.000000  \n",
      "          ref_hash  s_source_id  s_ref_type1   s_t_min  s_t_prom   s_t_max  \\\n",
      "0   40621409780134     0.229348          1.0  226857.0  226857.0  226857.0   \n",
      "1  168103949904656     0.152259          1.0  173044.0  173044.0  173044.0   \n",
      "\n",
      "   s_ref_type_7  s_#subastas    e_kind  e_app_id  e_event_id  e_#wifi  \\\n",
      "0           0.0          1.0  0.008657  0.005934    0.008633      0.0   \n",
      "1           0.0          1.0  0.087588  0.034847    0.089625      0.0   \n",
      "\n",
      "   e_#atribuidos  e_#eventos       e_t_prom  segundos  s_t_prom#  \n",
      "0            0.0         9.0  122304.666667  259200.0   226857.0  \n",
      "1            0.0        10.0   87199.100000  259200.0   173044.0  \n"
     ]
    }
   ],
   "source": [
    "nuevos_archivos = []\n",
    "for df in archivos:\n",
    "    #df = df.drop(['e_#atribuidos','e_#eventos','e_#wifi',\n",
    "    #              's_ref_type1','s_ref_type_7'],axis=1)\n",
    "    df['s_t_prom#'] = df['s_t_prom']*df['s_#subastas']\n",
    "    print(df.head(2))\n",
    "    nuevos_archivos.append(df)\n",
    "archivos = nuevos_archivos"
   ]
  },
  {
   "cell_type": "code",
   "execution_count": 19,
   "metadata": {},
   "outputs": [
    {
     "data": {
      "text/html": [
       "<div>\n",
       "<style scoped>\n",
       "    .dataframe tbody tr th:only-of-type {\n",
       "        vertical-align: middle;\n",
       "    }\n",
       "\n",
       "    .dataframe tbody tr th {\n",
       "        vertical-align: top;\n",
       "    }\n",
       "\n",
       "    .dataframe thead th {\n",
       "        text-align: right;\n",
       "    }\n",
       "</style>\n",
       "<table border=\"1\" class=\"dataframe\">\n",
       "  <thead>\n",
       "    <tr style=\"text-align: right;\">\n",
       "      <th></th>\n",
       "      <th>ref_hash</th>\n",
       "      <th>s_source_id</th>\n",
       "      <th>s_t_min</th>\n",
       "      <th>s_t_prom</th>\n",
       "      <th>s_t_max</th>\n",
       "      <th>s_#subastas</th>\n",
       "      <th>e_kind</th>\n",
       "      <th>e_app_id</th>\n",
       "      <th>e_event_id</th>\n",
       "      <th>e_t_prom</th>\n",
       "      <th>segundos</th>\n",
       "      <th>s_source_t_max</th>\n",
       "    </tr>\n",
       "  </thead>\n",
       "  <tbody>\n",
       "    <tr>\n",
       "      <th>0</th>\n",
       "      <td>41863526108385</td>\n",
       "      <td>0.122257</td>\n",
       "      <td>70828.0</td>\n",
       "      <td>99236.171429</td>\n",
       "      <td>102619.0</td>\n",
       "      <td>35.0</td>\n",
       "      <td>0.147983</td>\n",
       "      <td>0.261183</td>\n",
       "      <td>0.147484</td>\n",
       "      <td>88923.736111</td>\n",
       "      <td>259200.0</td>\n",
       "      <td>12545.859901</td>\n",
       "    </tr>\n",
       "    <tr>\n",
       "      <th>1</th>\n",
       "      <td>135153013040192</td>\n",
       "      <td>0.507354</td>\n",
       "      <td>101454.0</td>\n",
       "      <td>101981.875000</td>\n",
       "      <td>102252.0</td>\n",
       "      <td>8.0</td>\n",
       "      <td>0.000000</td>\n",
       "      <td>0.000000</td>\n",
       "      <td>0.000000</td>\n",
       "      <td>259200.000000</td>\n",
       "      <td>259200.0</td>\n",
       "      <td>51877.948969</td>\n",
       "    </tr>\n",
       "    <tr>\n",
       "      <th>2</th>\n",
       "      <td>181891380775191</td>\n",
       "      <td>0.507354</td>\n",
       "      <td>170365.0</td>\n",
       "      <td>170365.000000</td>\n",
       "      <td>170365.0</td>\n",
       "      <td>1.0</td>\n",
       "      <td>0.000000</td>\n",
       "      <td>0.000000</td>\n",
       "      <td>0.000000</td>\n",
       "      <td>259200.000000</td>\n",
       "      <td>259200.0</td>\n",
       "      <td>86435.343817</td>\n",
       "    </tr>\n",
       "    <tr>\n",
       "      <th>3</th>\n",
       "      <td>186034136943920</td>\n",
       "      <td>0.507354</td>\n",
       "      <td>98271.0</td>\n",
       "      <td>174949.062500</td>\n",
       "      <td>257356.0</td>\n",
       "      <td>16.0</td>\n",
       "      <td>0.000000</td>\n",
       "      <td>0.000000</td>\n",
       "      <td>0.000000</td>\n",
       "      <td>259200.000000</td>\n",
       "      <td>17475.0</td>\n",
       "      <td>130570.565219</td>\n",
       "    </tr>\n",
       "    <tr>\n",
       "      <th>4</th>\n",
       "      <td>295841792051458</td>\n",
       "      <td>0.507354</td>\n",
       "      <td>173232.0</td>\n",
       "      <td>173232.000000</td>\n",
       "      <td>173232.0</td>\n",
       "      <td>1.0</td>\n",
       "      <td>0.000000</td>\n",
       "      <td>0.000000</td>\n",
       "      <td>0.000000</td>\n",
       "      <td>259200.000000</td>\n",
       "      <td>259200.0</td>\n",
       "      <td>87889.927392</td>\n",
       "    </tr>\n",
       "  </tbody>\n",
       "</table>\n",
       "</div>"
      ],
      "text/plain": [
       "          ref_hash  s_source_id   s_t_min       s_t_prom   s_t_max  \\\n",
       "0   41863526108385     0.122257   70828.0   99236.171429  102619.0   \n",
       "1  135153013040192     0.507354  101454.0  101981.875000  102252.0   \n",
       "2  181891380775191     0.507354  170365.0  170365.000000  170365.0   \n",
       "3  186034136943920     0.507354   98271.0  174949.062500  257356.0   \n",
       "4  295841792051458     0.507354  173232.0  173232.000000  173232.0   \n",
       "\n",
       "   s_#subastas    e_kind  e_app_id  e_event_id       e_t_prom  segundos  \\\n",
       "0         35.0  0.147983  0.261183    0.147484   88923.736111  259200.0   \n",
       "1          8.0  0.000000  0.000000    0.000000  259200.000000  259200.0   \n",
       "2          1.0  0.000000  0.000000    0.000000  259200.000000  259200.0   \n",
       "3         16.0  0.000000  0.000000    0.000000  259200.000000   17475.0   \n",
       "4          1.0  0.000000  0.000000    0.000000  259200.000000  259200.0   \n",
       "\n",
       "   s_source_t_max  \n",
       "0    12545.859901  \n",
       "1    51877.948969  \n",
       "2    86435.343817  \n",
       "3   130570.565219  \n",
       "4    87889.927392  "
      ]
     },
     "execution_count": 19,
     "metadata": {},
     "output_type": "execute_result"
    }
   ],
   "source": [
    "archivos[1].head()"
   ]
  },
  {
   "cell_type": "code",
   "execution_count": 13,
   "metadata": {},
   "outputs": [
    {
     "name": "stdout",
     "output_type": "stream",
     "text": [
      "RMSE promedio: 83711.848368\n"
     ]
    }
   ],
   "source": [
    "xg_reg = xgb.XGBRegressor(objective ='reg:linear', \n",
    "        colsample_bytree = 1, learning_rate = 0.5,\n",
    "        max_depth = 5, gamma = 10, n_estimators = 30) \n",
    "    \n",
    "suma_errores = 0\n",
    "for df in archivos:\n",
    "    X,y = df.drop(['ref_hash','segundos'],axis=1),df['segundos']\n",
    "    X_train, X_test, y_train, y_test = \\\n",
    "    train_test_split(X, y, test_size=0.2, random_state=150)\n",
    "\n",
    "    xg_reg.fit(X_train,y_train)\n",
    "    preds = xg_reg.predict(X_test)\n",
    "    rmse = np.sqrt(mean_squared_error(y_test, preds))\n",
    "    suma_errores += rmse\n",
    "       \n",
    "error_promedio = suma_errores / len(archivos)\n",
    "print('RMSE promedio: %f' % (error_promedio))"
   ]
  },
  {
   "cell_type": "code",
   "execution_count": 4,
   "metadata": {},
   "outputs": [
    {
     "name": "stderr",
     "output_type": "stream",
     "text": [
      "/home/cecilia/.local/lib/python2.7/site-packages/xgboost/core.py:587: FutureWarning: Series.base is deprecated and will be removed in a future version\n",
      "  if getattr(data, 'base', None) is not None and \\\n",
      "/home/cecilia/.local/lib/python2.7/site-packages/xgboost/core.py:588: FutureWarning: Series.base is deprecated and will be removed in a future version\n",
      "  data.base is not None and isinstance(data, np.ndarray) \\\n"
     ]
    },
    {
     "data": {
      "text/html": [
       "<div>\n",
       "<style scoped>\n",
       "    .dataframe tbody tr th:only-of-type {\n",
       "        vertical-align: middle;\n",
       "    }\n",
       "\n",
       "    .dataframe tbody tr th {\n",
       "        vertical-align: top;\n",
       "    }\n",
       "\n",
       "    .dataframe thead th {\n",
       "        text-align: right;\n",
       "    }\n",
       "</style>\n",
       "<table border=\"1\" class=\"dataframe\">\n",
       "  <thead>\n",
       "    <tr style=\"text-align: right;\">\n",
       "      <th></th>\n",
       "      <th>objetivo</th>\n",
       "    </tr>\n",
       "  </thead>\n",
       "  <tbody>\n",
       "    <tr>\n",
       "      <th>0</th>\n",
       "      <td>175154.921875</td>\n",
       "    </tr>\n",
       "    <tr>\n",
       "      <th>1</th>\n",
       "      <td>154015.718750</td>\n",
       "    </tr>\n",
       "    <tr>\n",
       "      <th>2</th>\n",
       "      <td>25057.111328</td>\n",
       "    </tr>\n",
       "    <tr>\n",
       "      <th>3</th>\n",
       "      <td>143997.171875</td>\n",
       "    </tr>\n",
       "    <tr>\n",
       "      <th>4</th>\n",
       "      <td>93046.671875</td>\n",
       "    </tr>\n",
       "  </tbody>\n",
       "</table>\n",
       "</div>"
      ],
      "text/plain": [
       "        objetivo\n",
       "0  175154.921875\n",
       "1  154015.718750\n",
       "2   25057.111328\n",
       "3  143997.171875\n",
       "4   93046.671875"
      ]
     },
     "execution_count": 4,
     "metadata": {},
     "output_type": "execute_result"
    }
   ],
   "source": [
    "predecir = pd.read_csv('predecir_st_2426.csv')\n",
    "xg_reg = xgb.XGBRegressor(objective ='reg:linear', \n",
    "            colsample_bytree = 1, learning_rate = 0.5,\n",
    "            max_depth = 5, alpha = 10, n_estimators = 30) \n",
    "    \n",
    "for df in archivos:\n",
    "    X,y = df.drop(['ref_hash','segundos'],axis=1),df['segundos']\n",
    "    xg_reg.fit(X,y)\n",
    "preds = xg_reg.predict(predecir.drop(['ref_hash','segundos'],axis=1))\n",
    "prediccion = pd.DataFrame(preds)\n",
    "prediccion.columns = ['objetivo']\n",
    "prediccion.head()"
   ]
  },
  {
   "cell_type": "code",
   "execution_count": 5,
   "metadata": {},
   "outputs": [
    {
     "name": "stdout",
     "output_type": "stream",
     "text": [
      "(438282, 16)\n",
      "(438282, 1)\n"
     ]
    }
   ],
   "source": [
    "print(predecir.shape)\n",
    "print(prediccion.shape)"
   ]
  },
  {
   "cell_type": "code",
   "execution_count": 6,
   "metadata": {},
   "outputs": [
    {
     "data": {
      "text/html": [
       "<div>\n",
       "<style scoped>\n",
       "    .dataframe tbody tr th:only-of-type {\n",
       "        vertical-align: middle;\n",
       "    }\n",
       "\n",
       "    .dataframe tbody tr th {\n",
       "        vertical-align: top;\n",
       "    }\n",
       "\n",
       "    .dataframe thead th {\n",
       "        text-align: right;\n",
       "    }\n",
       "</style>\n",
       "<table border=\"1\" class=\"dataframe\">\n",
       "  <thead>\n",
       "    <tr style=\"text-align: right;\">\n",
       "      <th></th>\n",
       "      <th>obj</th>\n",
       "      <th>ref_hash</th>\n",
       "    </tr>\n",
       "  </thead>\n",
       "  <tbody>\n",
       "    <tr>\n",
       "      <th>0</th>\n",
       "      <td>175154.921875</td>\n",
       "      <td>69039685746313</td>\n",
       "    </tr>\n",
       "    <tr>\n",
       "      <th>1</th>\n",
       "      <td>154015.718750</td>\n",
       "      <td>345999128501141</td>\n",
       "    </tr>\n",
       "    <tr>\n",
       "      <th>2</th>\n",
       "      <td>25057.111328</td>\n",
       "      <td>360710529886978</td>\n",
       "    </tr>\n",
       "    <tr>\n",
       "      <th>3</th>\n",
       "      <td>143997.171875</td>\n",
       "      <td>365882020742330</td>\n",
       "    </tr>\n",
       "    <tr>\n",
       "      <th>4</th>\n",
       "      <td>93046.671875</td>\n",
       "      <td>416301579449694</td>\n",
       "    </tr>\n",
       "  </tbody>\n",
       "</table>\n",
       "</div>"
      ],
      "text/plain": [
       "             obj         ref_hash\n",
       "0  175154.921875   69039685746313\n",
       "1  154015.718750  345999128501141\n",
       "2   25057.111328  360710529886978\n",
       "3  143997.171875  365882020742330\n",
       "4   93046.671875  416301579449694"
      ]
     },
     "execution_count": 6,
     "metadata": {},
     "output_type": "execute_result"
    }
   ],
   "source": [
    "prediccion = pd.DataFrame({'ref_hash': predecir['ref_hash'],\n",
    "                           'obj': prediccion['objetivo']})\n",
    "prediccion.to_csv('prediccion_st_2426.csv', index=False)\n",
    "prediccion.head()"
   ]
  },
  {
   "cell_type": "code",
   "execution_count": null,
   "metadata": {},
   "outputs": [],
   "source": []
  }
 ],
 "metadata": {
  "kernelspec": {
   "display_name": "Python 2",
   "language": "python",
   "name": "python2"
  },
  "language_info": {
   "codemirror_mode": {
    "name": "ipython",
    "version": 2
   },
   "file_extension": ".py",
   "mimetype": "text/x-python",
   "name": "python",
   "nbconvert_exporter": "python",
   "pygments_lexer": "ipython2",
   "version": "2.7.15rc1"
  }
 },
 "nbformat": 4,
 "nbformat_minor": 2
}
