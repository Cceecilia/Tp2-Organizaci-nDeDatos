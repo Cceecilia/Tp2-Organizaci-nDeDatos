{
 "cells": [
  {
   "cell_type": "code",
   "execution_count": 1,
   "metadata": {},
   "outputs": [],
   "source": [
    "import pandas as pd\n",
    "import numpy as np\n",
    "from datetime import datetime, date, timedelta"
   ]
  },
  {
   "cell_type": "code",
   "execution_count": 2,
   "metadata": {},
   "outputs": [
    {
     "name": "stderr",
     "output_type": "stream",
     "text": [
      "/home/cecilia/.local/lib/python2.7/site-packages/IPython/core/interactiveshell.py:2714: DtypeWarning: Columns (13,20) have mixed types. Specify dtype option on import or set low_memory=False.\n",
      "  interactivity=interactivity, compiler=compiler, result=result)\n"
     ]
    }
   ],
   "source": [
    "events = pd.read_csv(\"events.csv.gzip\", compression='gzip')"
   ]
  },
  {
   "cell_type": "code",
   "execution_count": 3,
   "metadata": {},
   "outputs": [
    {
     "data": {
      "text/plain": [
       "index                       0\n",
       "date                        0\n",
       "event_id                    0\n",
       "ref_type                    0\n",
       "ref_hash                    0\n",
       "application_id              0\n",
       "attributed                  0\n",
       "device_countrycode          0\n",
       "device_os_version     5411606\n",
       "device_brand          5191157\n",
       "device_model          2076489\n",
       "device_city           5849646\n",
       "session_user_agent      42280\n",
       "trans_id              7706939\n",
       "user_agent            4403098\n",
       "event_uuid              29772\n",
       "carrier               5818680\n",
       "kind                    29772\n",
       "device_os             5874391\n",
       "wifi                        0\n",
       "connection_type       5935285\n",
       "ip_address                  0\n",
       "device_language       2079172\n",
       "dtype: int64"
      ]
     },
     "execution_count": 3,
     "metadata": {},
     "output_type": "execute_result"
    }
   ],
   "source": [
    "events.isnull().sum()"
   ]
  },
  {
   "cell_type": "code",
   "execution_count": 4,
   "metadata": {},
   "outputs": [],
   "source": [
    "# Elimino las columnas que tienen mas de la mitad de los datos nulos\n",
    "events = events.drop(['device_os_version','device_brand','device_city',\n",
    "                           'trans_id','user_agent','carrier','device_os','connection_type'], axis=1)"
   ]
  },
  {
   "cell_type": "code",
   "execution_count": 14,
   "metadata": {},
   "outputs": [
    {
     "data": {
      "text/plain": [
       "1      1281105\n",
       "15     1005533\n",
       "23      702708\n",
       "2       621588\n",
       "115     524729\n",
       "0       404736\n",
       "13      260978\n",
       "7       256957\n",
       "5       250572\n",
       "101     218849\n",
       "Name: event_id, dtype: int64"
      ]
     },
     "execution_count": 14,
     "metadata": {},
     "output_type": "execute_result"
    }
   ],
   "source": [
    "events['event_id'].value_counts().head(10)"
   ]
  },
  {
   "cell_type": "code",
   "execution_count": 7,
   "metadata": {},
   "outputs": [
    {
     "data": {
      "text/plain": [
       "1891515180541284343    6421584\n",
       "1494519392962156891    1322997\n",
       "Name: ref_type, dtype: int64"
      ]
     },
     "execution_count": 7,
     "metadata": {},
     "output_type": "execute_result"
    }
   ],
   "source": [
    "events['ref_type'].value_counts()"
   ]
  },
  {
   "cell_type": "code",
   "execution_count": 15,
   "metadata": {},
   "outputs": [
    {
     "data": {
      "text/plain": [
       "210    1900636\n",
       "122    1021538\n",
       "121     657386\n",
       "65      654725\n",
       "26      491855\n",
       "269     276453\n",
       "155     262531\n",
       "21      257102\n",
       "133     247082\n",
       "226     222076\n",
       "Name: application_id, dtype: int64"
      ]
     },
     "execution_count": 15,
     "metadata": {},
     "output_type": "execute_result"
    }
   ],
   "source": [
    "events['application_id'].value_counts().head(10)"
   ]
  },
  {
   "cell_type": "code",
   "execution_count": 9,
   "metadata": {},
   "outputs": [
    {
     "data": {
      "text/plain": [
       "False    7714809\n",
       "True       29772\n",
       "Name: attributed, dtype: int64"
      ]
     },
     "execution_count": 9,
     "metadata": {},
     "output_type": "execute_result"
    }
   ],
   "source": [
    "events['attributed'].value_counts()"
   ]
  },
  {
   "cell_type": "code",
   "execution_count": 10,
   "metadata": {},
   "outputs": [
    {
     "data": {
      "text/plain": [
       "6287817205707153877    7744581\n",
       "Name: device_countrycode, dtype: int64"
      ]
     },
     "execution_count": 10,
     "metadata": {},
     "output_type": "execute_result"
    }
   ],
   "source": [
    "events['device_countrycode'].value_counts()"
   ]
  },
  {
   "cell_type": "code",
   "execution_count": 16,
   "metadata": {},
   "outputs": [
    {
     "data": {
      "text/plain": [
       "4.017674e+18    1281105\n",
       "5.500848e+18    1005533\n",
       "6.081165e+18     683828\n",
       "6.168309e+18     621588\n",
       "6.123834e+18     524598\n",
       "5.882882e+18     404733\n",
       "4.853173e+18     260978\n",
       "9.977660e+17     256493\n",
       "9.208056e+18     250572\n",
       "6.897685e+18     214713\n",
       "Name: kind, dtype: int64"
      ]
     },
     "execution_count": 16,
     "metadata": {},
     "output_type": "execute_result"
    }
   ],
   "source": [
    "events['kind'].value_counts().head(10)"
   ]
  },
  {
   "cell_type": "code",
   "execution_count": 17,
   "metadata": {},
   "outputs": [
    {
     "data": {
      "text/plain": [
       "False    5478103\n",
       "True     2266478\n",
       "Name: wifi, dtype: int64"
      ]
     },
     "execution_count": 17,
     "metadata": {},
     "output_type": "execute_result"
    }
   ],
   "source": [
    "events['wifi'].value_counts()"
   ]
  },
  {
   "cell_type": "code",
   "execution_count": 23,
   "metadata": {},
   "outputs": [
    {
     "data": {
      "text/plain": [
       "3.301378e+18    2588856\n",
       "6.977049e+18    2311474\n",
       "8.441417e+18     486372\n",
       "6.584214e+18     101223\n",
       "4.060930e+18      62155\n",
       "5.221863e+18      52326\n",
       "7.528974e+18      20169\n",
       "3.491909e+18      14824\n",
       "3.177265e+18       4668\n",
       "4.077062e+17       1917\n",
       "Name: device_language, dtype: int64"
      ]
     },
     "execution_count": 23,
     "metadata": {},
     "output_type": "execute_result"
    }
   ],
   "source": [
    "events['device_language'].value_counts().head(10)"
   ]
  },
  {
   "cell_type": "code",
   "execution_count": 27,
   "metadata": {},
   "outputs": [],
   "source": [
    "def crear_features_events(events_entrenar,datetime_inicio):\n",
    "    events_entrenar['date'] = pd.to_datetime(events_entrenar['date'])\n",
    "    \n",
    "    dia_en_segundos = 86400\n",
    "    events_entrenar['segundos'] = ((events_entrenar['date']-datetime_inicio).dt.seconds + \n",
    "                                     (events_entrenar['date']-datetime_inicio).dt.days*dia_en_segundos)\n",
    "\n",
    "    \n",
    "    # Cambio sevent_id por la probabilidad de que aparezca ese evento\n",
    "    evento = events_entrenar['event_id'].value_counts(normalize=True)\n",
    "    events_entrenar['event_id'] = events_entrenar['event_id'].replace(evento)\n",
    "    \n",
    "    # Cambio application_id por la probabilidad de que aparezca esa aplicacion\n",
    "    aplicacion = events_entrenar['application_id'].value_counts(normalize=True)\n",
    "    events_entrenar['application_id'] = events_entrenar['application_id'].replace(aplicacion)\n",
    "      \n",
    "    # Cambio device_language por la probabilidad de que aparezca ese kind\n",
    "    kind = events_entrenar['kind'].value_counts(normalize=True)\n",
    "    events_entrenar['kind'] = events_entrenar['kind'].replace(kind)\n",
    "    \n",
    "\n",
    "    # Agrupo el data frame por los ref_hash\n",
    "    events_entrenar = events_entrenar.groupby('ref_hash').agg({'ref_hash':'count','attributed':'sum',\n",
    "                                                               'wifi':'sum','event_id':'mean',\n",
    "                                                               'application_id':'mean','kind':'mean',\n",
    "                                                               'segundos':'mean'})\n",
    "    \n",
    "    events_entrenar.columns = ['e_kind','e_app_id','e_event_id','e_#wifi','e_#atribuidos','e_#eventos','e_t_prom']\n",
    "    events_entrenar = events_entrenar.reset_index('ref_hash')\n",
    "          \n",
    "    return events_entrenar\n",
    "    "
   ]
  },
  {
   "cell_type": "code",
   "execution_count": 28,
   "metadata": {},
   "outputs": [
    {
     "data": {
      "text/html": [
       "<div>\n",
       "<style scoped>\n",
       "    .dataframe tbody tr th:only-of-type {\n",
       "        vertical-align: middle;\n",
       "    }\n",
       "\n",
       "    .dataframe tbody tr th {\n",
       "        vertical-align: top;\n",
       "    }\n",
       "\n",
       "    .dataframe thead th {\n",
       "        text-align: right;\n",
       "    }\n",
       "</style>\n",
       "<table border=\"1\" class=\"dataframe\">\n",
       "  <thead>\n",
       "    <tr style=\"text-align: right;\">\n",
       "      <th></th>\n",
       "      <th>ref_hash</th>\n",
       "      <th>e_kind</th>\n",
       "      <th>e_app_id</th>\n",
       "      <th>e_event_id</th>\n",
       "      <th>e_#wifi</th>\n",
       "      <th>e_#atribuidos</th>\n",
       "      <th>e_#eventos</th>\n",
       "      <th>e_t_prom</th>\n",
       "    </tr>\n",
       "  </thead>\n",
       "  <tbody>\n",
       "    <tr>\n",
       "      <th>0</th>\n",
       "      <td>41863526108385</td>\n",
       "      <td>0.126640</td>\n",
       "      <td>0.211054</td>\n",
       "      <td>0.126202</td>\n",
       "      <td>0.0</td>\n",
       "      <td>0.0</td>\n",
       "      <td>88</td>\n",
       "      <td>140062.647727</td>\n",
       "    </tr>\n",
       "    <tr>\n",
       "      <th>1</th>\n",
       "      <td>161514654074162</td>\n",
       "      <td>0.057634</td>\n",
       "      <td>0.087007</td>\n",
       "      <td>0.058797</td>\n",
       "      <td>8.0</td>\n",
       "      <td>0.0</td>\n",
       "      <td>8</td>\n",
       "      <td>147937.250000</td>\n",
       "    </tr>\n",
       "    <tr>\n",
       "      <th>2</th>\n",
       "      <td>186034136943920</td>\n",
       "      <td>0.148482</td>\n",
       "      <td>0.253877</td>\n",
       "      <td>0.147929</td>\n",
       "      <td>0.0</td>\n",
       "      <td>0.0</td>\n",
       "      <td>13</td>\n",
       "      <td>60125.769231</td>\n",
       "    </tr>\n",
       "    <tr>\n",
       "      <th>3</th>\n",
       "      <td>360710529886978</td>\n",
       "      <td>0.064439</td>\n",
       "      <td>0.016072</td>\n",
       "      <td>0.065793</td>\n",
       "      <td>0.0</td>\n",
       "      <td>0.0</td>\n",
       "      <td>3</td>\n",
       "      <td>214874.000000</td>\n",
       "    </tr>\n",
       "    <tr>\n",
       "      <th>4</th>\n",
       "      <td>365882020742330</td>\n",
       "      <td>0.099017</td>\n",
       "      <td>0.019018</td>\n",
       "      <td>0.098669</td>\n",
       "      <td>0.0</td>\n",
       "      <td>0.0</td>\n",
       "      <td>57</td>\n",
       "      <td>151254.982456</td>\n",
       "    </tr>\n",
       "  </tbody>\n",
       "</table>\n",
       "</div>"
      ],
      "text/plain": [
       "          ref_hash    e_kind  e_app_id  e_event_id  e_#wifi  e_#atribuidos  \\\n",
       "0   41863526108385  0.126640  0.211054    0.126202      0.0            0.0   \n",
       "1  161514654074162  0.057634  0.087007    0.058797      8.0            0.0   \n",
       "2  186034136943920  0.148482  0.253877    0.147929      0.0            0.0   \n",
       "3  360710529886978  0.064439  0.016072    0.065793      0.0            0.0   \n",
       "4  365882020742330  0.099017  0.019018    0.098669      0.0            0.0   \n",
       "\n",
       "   e_#eventos       e_t_prom  \n",
       "0          88  140062.647727  \n",
       "1           8  147937.250000  \n",
       "2          13   60125.769231  \n",
       "3           3  214874.000000  \n",
       "4          57  151254.982456  "
      ]
     },
     "execution_count": 28,
     "metadata": {},
     "output_type": "execute_result"
    }
   ],
   "source": [
    "events_entrenar = pd.read_csv('events_1820.csv')\n",
    "datetime_inicio = datetime(2019,4,18)\n",
    "f_events = crear_features_events(events_entrenar,datetime_inicio)\n",
    "f_events.to_csv('events_train_1820.csv', index=False)\n",
    "f_events.head()"
   ]
  },
  {
   "cell_type": "code",
   "execution_count": 29,
   "metadata": {},
   "outputs": [
    {
     "data": {
      "text/html": [
       "<div>\n",
       "<style scoped>\n",
       "    .dataframe tbody tr th:only-of-type {\n",
       "        vertical-align: middle;\n",
       "    }\n",
       "\n",
       "    .dataframe tbody tr th {\n",
       "        vertical-align: top;\n",
       "    }\n",
       "\n",
       "    .dataframe thead th {\n",
       "        text-align: right;\n",
       "    }\n",
       "</style>\n",
       "<table border=\"1\" class=\"dataframe\">\n",
       "  <thead>\n",
       "    <tr style=\"text-align: right;\">\n",
       "      <th></th>\n",
       "      <th>ref_hash</th>\n",
       "      <th>e_kind</th>\n",
       "      <th>e_app_id</th>\n",
       "      <th>e_event_id</th>\n",
       "      <th>e_#wifi</th>\n",
       "      <th>e_#atribuidos</th>\n",
       "      <th>e_#eventos</th>\n",
       "      <th>e_t_prom</th>\n",
       "    </tr>\n",
       "  </thead>\n",
       "  <tbody>\n",
       "    <tr>\n",
       "      <th>0</th>\n",
       "      <td>40621409780134</td>\n",
       "      <td>0.005631</td>\n",
       "      <td>0.005478</td>\n",
       "      <td>0.005612</td>\n",
       "      <td>0.0</td>\n",
       "      <td>0.0</td>\n",
       "      <td>6</td>\n",
       "      <td>242807.833333</td>\n",
       "    </tr>\n",
       "    <tr>\n",
       "      <th>1</th>\n",
       "      <td>41863526108385</td>\n",
       "      <td>0.147983</td>\n",
       "      <td>0.261183</td>\n",
       "      <td>0.147484</td>\n",
       "      <td>0.0</td>\n",
       "      <td>0.0</td>\n",
       "      <td>72</td>\n",
       "      <td>88923.736111</td>\n",
       "    </tr>\n",
       "    <tr>\n",
       "      <th>2</th>\n",
       "      <td>161514654074162</td>\n",
       "      <td>0.056457</td>\n",
       "      <td>0.083004</td>\n",
       "      <td>0.057539</td>\n",
       "      <td>8.0</td>\n",
       "      <td>0.0</td>\n",
       "      <td>8</td>\n",
       "      <td>61537.250000</td>\n",
       "    </tr>\n",
       "    <tr>\n",
       "      <th>3</th>\n",
       "      <td>360710529886978</td>\n",
       "      <td>0.070222</td>\n",
       "      <td>0.015924</td>\n",
       "      <td>0.071648</td>\n",
       "      <td>0.0</td>\n",
       "      <td>0.0</td>\n",
       "      <td>4</td>\n",
       "      <td>155603.000000</td>\n",
       "    </tr>\n",
       "    <tr>\n",
       "      <th>4</th>\n",
       "      <td>365882020742330</td>\n",
       "      <td>0.099317</td>\n",
       "      <td>0.019578</td>\n",
       "      <td>0.098997</td>\n",
       "      <td>0.0</td>\n",
       "      <td>0.0</td>\n",
       "      <td>65</td>\n",
       "      <td>86141.076923</td>\n",
       "    </tr>\n",
       "  </tbody>\n",
       "</table>\n",
       "</div>"
      ],
      "text/plain": [
       "          ref_hash    e_kind  e_app_id  e_event_id  e_#wifi  e_#atribuidos  \\\n",
       "0   40621409780134  0.005631  0.005478    0.005612      0.0            0.0   \n",
       "1   41863526108385  0.147983  0.261183    0.147484      0.0            0.0   \n",
       "2  161514654074162  0.056457  0.083004    0.057539      8.0            0.0   \n",
       "3  360710529886978  0.070222  0.015924    0.071648      0.0            0.0   \n",
       "4  365882020742330  0.099317  0.019578    0.098997      0.0            0.0   \n",
       "\n",
       "   e_#eventos       e_t_prom  \n",
       "0           6  242807.833333  \n",
       "1          72   88923.736111  \n",
       "2           8   61537.250000  \n",
       "3           4  155603.000000  \n",
       "4          65   86141.076923  "
      ]
     },
     "execution_count": 29,
     "metadata": {},
     "output_type": "execute_result"
    }
   ],
   "source": [
    "events_entrenar = pd.read_csv('events_1921.csv')\n",
    "datetime_inicio = datetime(2019,4,19)\n",
    "f_events = crear_features_events(events_entrenar,datetime_inicio)\n",
    "f_events.to_csv('events_train_1921.csv', index=False)\n",
    "f_events.head()"
   ]
  },
  {
   "cell_type": "code",
   "execution_count": 30,
   "metadata": {},
   "outputs": [
    {
     "data": {
      "text/html": [
       "<div>\n",
       "<style scoped>\n",
       "    .dataframe tbody tr th:only-of-type {\n",
       "        vertical-align: middle;\n",
       "    }\n",
       "\n",
       "    .dataframe tbody tr th {\n",
       "        vertical-align: top;\n",
       "    }\n",
       "\n",
       "    .dataframe thead th {\n",
       "        text-align: right;\n",
       "    }\n",
       "</style>\n",
       "<table border=\"1\" class=\"dataframe\">\n",
       "  <thead>\n",
       "    <tr style=\"text-align: right;\">\n",
       "      <th></th>\n",
       "      <th>ref_hash</th>\n",
       "      <th>e_kind</th>\n",
       "      <th>e_app_id</th>\n",
       "      <th>e_event_id</th>\n",
       "      <th>e_#wifi</th>\n",
       "      <th>e_#atribuidos</th>\n",
       "      <th>e_#eventos</th>\n",
       "      <th>e_t_prom</th>\n",
       "    </tr>\n",
       "  </thead>\n",
       "  <tbody>\n",
       "    <tr>\n",
       "      <th>0</th>\n",
       "      <td>40621409780134</td>\n",
       "      <td>0.005677</td>\n",
       "      <td>0.005505</td>\n",
       "      <td>0.005659</td>\n",
       "      <td>0.0</td>\n",
       "      <td>0.0</td>\n",
       "      <td>6</td>\n",
       "      <td>156407.833333</td>\n",
       "    </tr>\n",
       "    <tr>\n",
       "      <th>1</th>\n",
       "      <td>41863526108385</td>\n",
       "      <td>0.146337</td>\n",
       "      <td>0.262990</td>\n",
       "      <td>0.145857</td>\n",
       "      <td>0.0</td>\n",
       "      <td>0.0</td>\n",
       "      <td>51</td>\n",
       "      <td>31455.568627</td>\n",
       "    </tr>\n",
       "    <tr>\n",
       "      <th>2</th>\n",
       "      <td>161514654074162</td>\n",
       "      <td>0.091154</td>\n",
       "      <td>0.088657</td>\n",
       "      <td>0.091189</td>\n",
       "      <td>50.0</td>\n",
       "      <td>0.0</td>\n",
       "      <td>51</td>\n",
       "      <td>241464.294118</td>\n",
       "    </tr>\n",
       "    <tr>\n",
       "      <th>3</th>\n",
       "      <td>168103949904656</td>\n",
       "      <td>0.090038</td>\n",
       "      <td>0.035244</td>\n",
       "      <td>0.091922</td>\n",
       "      <td>0.0</td>\n",
       "      <td>0.0</td>\n",
       "      <td>10</td>\n",
       "      <td>173599.100000</td>\n",
       "    </tr>\n",
       "    <tr>\n",
       "      <th>4</th>\n",
       "      <td>186034136943920</td>\n",
       "      <td>0.133386</td>\n",
       "      <td>0.262990</td>\n",
       "      <td>0.132950</td>\n",
       "      <td>0.0</td>\n",
       "      <td>0.0</td>\n",
       "      <td>28</td>\n",
       "      <td>237222.571429</td>\n",
       "    </tr>\n",
       "  </tbody>\n",
       "</table>\n",
       "</div>"
      ],
      "text/plain": [
       "          ref_hash    e_kind  e_app_id  e_event_id  e_#wifi  e_#atribuidos  \\\n",
       "0   40621409780134  0.005677  0.005505    0.005659      0.0            0.0   \n",
       "1   41863526108385  0.146337  0.262990    0.145857      0.0            0.0   \n",
       "2  161514654074162  0.091154  0.088657    0.091189     50.0            0.0   \n",
       "3  168103949904656  0.090038  0.035244    0.091922      0.0            0.0   \n",
       "4  186034136943920  0.133386  0.262990    0.132950      0.0            0.0   \n",
       "\n",
       "   e_#eventos       e_t_prom  \n",
       "0           6  156407.833333  \n",
       "1          51   31455.568627  \n",
       "2          51  241464.294118  \n",
       "3          10  173599.100000  \n",
       "4          28  237222.571429  "
      ]
     },
     "execution_count": 30,
     "metadata": {},
     "output_type": "execute_result"
    }
   ],
   "source": [
    "events_entrenar = pd.read_csv('events_2022.csv')\n",
    "datetime_inicio = datetime(2019,4,20)\n",
    "f_events = crear_features_events(events_entrenar,datetime_inicio)\n",
    "f_events.to_csv('events_train_2022.csv', index=False)\n",
    "f_events.head()"
   ]
  },
  {
   "cell_type": "code",
   "execution_count": 31,
   "metadata": {},
   "outputs": [
    {
     "data": {
      "text/html": [
       "<div>\n",
       "<style scoped>\n",
       "    .dataframe tbody tr th:only-of-type {\n",
       "        vertical-align: middle;\n",
       "    }\n",
       "\n",
       "    .dataframe tbody tr th {\n",
       "        vertical-align: top;\n",
       "    }\n",
       "\n",
       "    .dataframe thead th {\n",
       "        text-align: right;\n",
       "    }\n",
       "</style>\n",
       "<table border=\"1\" class=\"dataframe\">\n",
       "  <thead>\n",
       "    <tr style=\"text-align: right;\">\n",
       "      <th></th>\n",
       "      <th>ref_hash</th>\n",
       "      <th>e_kind</th>\n",
       "      <th>e_app_id</th>\n",
       "      <th>e_event_id</th>\n",
       "      <th>e_#wifi</th>\n",
       "      <th>e_#atribuidos</th>\n",
       "      <th>e_#eventos</th>\n",
       "      <th>e_t_prom</th>\n",
       "    </tr>\n",
       "  </thead>\n",
       "  <tbody>\n",
       "    <tr>\n",
       "      <th>0</th>\n",
       "      <td>40621409780134</td>\n",
       "      <td>0.008657</td>\n",
       "      <td>0.005934</td>\n",
       "      <td>0.008633</td>\n",
       "      <td>0.0</td>\n",
       "      <td>0.0</td>\n",
       "      <td>9</td>\n",
       "      <td>122304.666667</td>\n",
       "    </tr>\n",
       "    <tr>\n",
       "      <th>1</th>\n",
       "      <td>41863526108385</td>\n",
       "      <td>0.085450</td>\n",
       "      <td>0.264696</td>\n",
       "      <td>0.085150</td>\n",
       "      <td>0.0</td>\n",
       "      <td>0.0</td>\n",
       "      <td>8</td>\n",
       "      <td>9126.125000</td>\n",
       "    </tr>\n",
       "    <tr>\n",
       "      <th>2</th>\n",
       "      <td>69039685746313</td>\n",
       "      <td>0.044512</td>\n",
       "      <td>0.028056</td>\n",
       "      <td>0.044368</td>\n",
       "      <td>4.0</td>\n",
       "      <td>0.0</td>\n",
       "      <td>4</td>\n",
       "      <td>235984.500000</td>\n",
       "    </tr>\n",
       "    <tr>\n",
       "      <th>3</th>\n",
       "      <td>161514654074162</td>\n",
       "      <td>0.093511</td>\n",
       "      <td>0.083326</td>\n",
       "      <td>0.093581</td>\n",
       "      <td>56.0</td>\n",
       "      <td>0.0</td>\n",
       "      <td>58</td>\n",
       "      <td>165162.413793</td>\n",
       "    </tr>\n",
       "    <tr>\n",
       "      <th>4</th>\n",
       "      <td>168103949904656</td>\n",
       "      <td>0.087588</td>\n",
       "      <td>0.034847</td>\n",
       "      <td>0.089625</td>\n",
       "      <td>0.0</td>\n",
       "      <td>0.0</td>\n",
       "      <td>10</td>\n",
       "      <td>87199.100000</td>\n",
       "    </tr>\n",
       "  </tbody>\n",
       "</table>\n",
       "</div>"
      ],
      "text/plain": [
       "          ref_hash    e_kind  e_app_id  e_event_id  e_#wifi  e_#atribuidos  \\\n",
       "0   40621409780134  0.008657  0.005934    0.008633      0.0            0.0   \n",
       "1   41863526108385  0.085450  0.264696    0.085150      0.0            0.0   \n",
       "2   69039685746313  0.044512  0.028056    0.044368      4.0            0.0   \n",
       "3  161514654074162  0.093511  0.083326    0.093581     56.0            0.0   \n",
       "4  168103949904656  0.087588  0.034847    0.089625      0.0            0.0   \n",
       "\n",
       "   e_#eventos       e_t_prom  \n",
       "0           9  122304.666667  \n",
       "1           8    9126.125000  \n",
       "2           4  235984.500000  \n",
       "3          58  165162.413793  \n",
       "4          10   87199.100000  "
      ]
     },
     "execution_count": 31,
     "metadata": {},
     "output_type": "execute_result"
    }
   ],
   "source": [
    "events_entrenar = pd.read_csv('events_2123.csv')\n",
    "datetime_inicio = datetime(2019,4,21)\n",
    "f_events = crear_features_events(events_entrenar,datetime_inicio)\n",
    "f_events.to_csv('events_train_2123.csv', index=False)\n",
    "f_events.head()"
   ]
  },
  {
   "cell_type": "code",
   "execution_count": null,
   "metadata": {},
   "outputs": [],
   "source": []
  }
 ],
 "metadata": {
  "kernelspec": {
   "display_name": "Python 2",
   "language": "python",
   "name": "python2"
  },
  "language_info": {
   "codemirror_mode": {
    "name": "ipython",
    "version": 2
   },
   "file_extension": ".py",
   "mimetype": "text/x-python",
   "name": "python",
   "nbconvert_exporter": "python",
   "pygments_lexer": "ipython2",
   "version": "2.7.15rc1"
  }
 },
 "nbformat": 4,
 "nbformat_minor": 2
}
