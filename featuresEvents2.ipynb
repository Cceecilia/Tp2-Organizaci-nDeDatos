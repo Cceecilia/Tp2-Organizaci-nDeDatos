{
 "cells": [
  {
   "cell_type": "code",
   "execution_count": 1,
   "metadata": {},
   "outputs": [],
   "source": [
    "import pandas as pd\n",
    "import numpy as np\n",
    "from datetime import datetime, date, timedelta"
   ]
  },
  {
   "cell_type": "code",
   "execution_count": 2,
   "metadata": {},
   "outputs": [
    {
     "name": "stderr",
     "output_type": "stream",
     "text": [
      "/home/cecilia/.local/lib/python2.7/site-packages/IPython/core/interactiveshell.py:2714: DtypeWarning: Columns (13,20) have mixed types. Specify dtype option on import or set low_memory=False.\n",
      "  interactivity=interactivity, compiler=compiler, result=result)\n"
     ]
    }
   ],
   "source": [
    "events = pd.read_csv(\"events.csv.gzip\", compression='gzip')"
   ]
  },
  {
   "cell_type": "code",
   "execution_count": 3,
   "metadata": {},
   "outputs": [
    {
     "data": {
      "text/plain": [
       "index                       0\n",
       "date                        0\n",
       "event_id                    0\n",
       "ref_type                    0\n",
       "ref_hash                    0\n",
       "application_id              0\n",
       "attributed                  0\n",
       "device_countrycode          0\n",
       "device_os_version     5411606\n",
       "device_brand          5191157\n",
       "device_model          2076489\n",
       "device_city           5849646\n",
       "session_user_agent      42280\n",
       "trans_id              7706939\n",
       "user_agent            4403098\n",
       "event_uuid              29772\n",
       "carrier               5818680\n",
       "kind                    29772\n",
       "device_os             5874391\n",
       "wifi                        0\n",
       "connection_type       5935285\n",
       "ip_address                  0\n",
       "device_language       2079172\n",
       "dtype: int64"
      ]
     },
     "execution_count": 3,
     "metadata": {},
     "output_type": "execute_result"
    }
   ],
   "source": [
    "events.isnull().sum()"
   ]
  },
  {
   "cell_type": "code",
   "execution_count": 4,
   "metadata": {},
   "outputs": [],
   "source": [
    "# Elimino las columnas que tienen mas de la mitad de los datos nulos\n",
    "events = events.drop(['device_os_version','device_brand','device_city',\n",
    "                           'trans_id','user_agent','carrier','device_os','connection_type'], axis=1)"
   ]
  },
  {
   "cell_type": "code",
   "execution_count": 14,
   "metadata": {},
   "outputs": [
    {
     "data": {
      "text/plain": [
       "1      1281105\n",
       "15     1005533\n",
       "23      702708\n",
       "2       621588\n",
       "115     524729\n",
       "0       404736\n",
       "13      260978\n",
       "7       256957\n",
       "5       250572\n",
       "101     218849\n",
       "Name: event_id, dtype: int64"
      ]
     },
     "execution_count": 14,
     "metadata": {},
     "output_type": "execute_result"
    }
   ],
   "source": [
    "events['event_id'].value_counts().head(10)"
   ]
  },
  {
   "cell_type": "code",
   "execution_count": 7,
   "metadata": {},
   "outputs": [
    {
     "data": {
      "text/plain": [
       "1891515180541284343    6421584\n",
       "1494519392962156891    1322997\n",
       "Name: ref_type, dtype: int64"
      ]
     },
     "execution_count": 7,
     "metadata": {},
     "output_type": "execute_result"
    }
   ],
   "source": [
    "events['ref_type'].value_counts()"
   ]
  },
  {
   "cell_type": "code",
   "execution_count": 15,
   "metadata": {},
   "outputs": [
    {
     "data": {
      "text/plain": [
       "210    1900636\n",
       "122    1021538\n",
       "121     657386\n",
       "65      654725\n",
       "26      491855\n",
       "269     276453\n",
       "155     262531\n",
       "21      257102\n",
       "133     247082\n",
       "226     222076\n",
       "Name: application_id, dtype: int64"
      ]
     },
     "execution_count": 15,
     "metadata": {},
     "output_type": "execute_result"
    }
   ],
   "source": [
    "events['application_id'].value_counts().head(10)"
   ]
  },
  {
   "cell_type": "code",
   "execution_count": 9,
   "metadata": {},
   "outputs": [
    {
     "data": {
      "text/plain": [
       "False    7714809\n",
       "True       29772\n",
       "Name: attributed, dtype: int64"
      ]
     },
     "execution_count": 9,
     "metadata": {},
     "output_type": "execute_result"
    }
   ],
   "source": [
    "events['attributed'].value_counts()"
   ]
  },
  {
   "cell_type": "code",
   "execution_count": 10,
   "metadata": {},
   "outputs": [
    {
     "data": {
      "text/plain": [
       "6287817205707153877    7744581\n",
       "Name: device_countrycode, dtype: int64"
      ]
     },
     "execution_count": 10,
     "metadata": {},
     "output_type": "execute_result"
    }
   ],
   "source": [
    "events['device_countrycode'].value_counts()"
   ]
  },
  {
   "cell_type": "code",
   "execution_count": 16,
   "metadata": {},
   "outputs": [
    {
     "data": {
      "text/plain": [
       "4.017674e+18    1281105\n",
       "5.500848e+18    1005533\n",
       "6.081165e+18     683828\n",
       "6.168309e+18     621588\n",
       "6.123834e+18     524598\n",
       "5.882882e+18     404733\n",
       "4.853173e+18     260978\n",
       "9.977660e+17     256493\n",
       "9.208056e+18     250572\n",
       "6.897685e+18     214713\n",
       "Name: kind, dtype: int64"
      ]
     },
     "execution_count": 16,
     "metadata": {},
     "output_type": "execute_result"
    }
   ],
   "source": [
    "events['kind'].value_counts().head(10)"
   ]
  },
  {
   "cell_type": "code",
   "execution_count": 17,
   "metadata": {},
   "outputs": [
    {
     "data": {
      "text/plain": [
       "False    5478103\n",
       "True     2266478\n",
       "Name: wifi, dtype: int64"
      ]
     },
     "execution_count": 17,
     "metadata": {},
     "output_type": "execute_result"
    }
   ],
   "source": [
    "events['wifi'].value_counts()"
   ]
  },
  {
   "cell_type": "code",
   "execution_count": 23,
   "metadata": {},
   "outputs": [
    {
     "data": {
      "text/plain": [
       "3.301378e+18    2588856\n",
       "6.977049e+18    2311474\n",
       "8.441417e+18     486372\n",
       "6.584214e+18     101223\n",
       "4.060930e+18      62155\n",
       "5.221863e+18      52326\n",
       "7.528974e+18      20169\n",
       "3.491909e+18      14824\n",
       "3.177265e+18       4668\n",
       "4.077062e+17       1917\n",
       "Name: device_language, dtype: int64"
      ]
     },
     "execution_count": 23,
     "metadata": {},
     "output_type": "execute_result"
    }
   ],
   "source": [
    "events['device_language'].value_counts().head(10)"
   ]
  },
  {
   "cell_type": "code",
   "execution_count": 12,
   "metadata": {},
   "outputs": [],
   "source": [
    "def crear_features_events(events_entrenar,datetime_inicio):\n",
    "    events_entrenar['date'] = pd.to_datetime(events_entrenar['date'])\n",
    "    \n",
    "    dia_en_segundos = 86400\n",
    "    events_entrenar['segundos'] = ((events_entrenar['date']-datetime_inicio).dt.seconds + \n",
    "                                     (events_entrenar['date']-datetime_inicio).dt.days*dia_en_segundos)\n",
    "\n",
    "    \n",
    "    # Cambio event_id por la probabilidad de que aparezca ese evento\n",
    "    evento = events_entrenar['event_id'].value_counts(normalize=True)\n",
    "    events_entrenar['event_id'] = events_entrenar['event_id'].replace(evento)\n",
    "    \n",
    "    # Cambio application_id por la probabilidad de que aparezca esa aplicacion\n",
    "    aplicacion = events_entrenar['application_id'].value_counts(normalize=True)\n",
    "    events_entrenar['application_id'] = events_entrenar['application_id'].replace(aplicacion)\n",
    "      \n",
    "    # Cambio kind por la probabilidad de que aparezca ese kind\n",
    "    kind = events_entrenar['kind'].value_counts(normalize=True)\n",
    "    events_entrenar['kind'] = events_entrenar['kind'].replace(kind)\n",
    "    \n",
    "\n",
    "    # Agrupo el data frame por los ref_hash\n",
    "    events_entrenar = events_entrenar.groupby('ref_hash').agg(\n",
    "        {'ref_hash':'count','event_id':'mean','application_id':'mean',\n",
    "         'kind':'mean','segundos':'mean'})\n",
    "\n",
    "    events_entrenar.columns = ['e_event_id','e_t_prom','e_kind','e_app_id','e_#eventos']\n",
    "    events_entrenar = events_entrenar.reset_index('ref_hash')\n",
    "    \n",
    "    events_entrenar['e_eventoId'] = events_entrenar['e_event_id']*events_entrenar['e_#eventos']\n",
    "    del events_entrenar['e_event_id']\n",
    "    del events_entrenar['e_#eventos']\n",
    "    \n",
    "    return events_entrenar\n",
    "    "
   ]
  },
  {
   "cell_type": "code",
   "execution_count": 13,
   "metadata": {},
   "outputs": [
    {
     "data": {
      "text/html": [
       "<div>\n",
       "<style scoped>\n",
       "    .dataframe tbody tr th:only-of-type {\n",
       "        vertical-align: middle;\n",
       "    }\n",
       "\n",
       "    .dataframe tbody tr th {\n",
       "        vertical-align: top;\n",
       "    }\n",
       "\n",
       "    .dataframe thead th {\n",
       "        text-align: right;\n",
       "    }\n",
       "</style>\n",
       "<table border=\"1\" class=\"dataframe\">\n",
       "  <thead>\n",
       "    <tr style=\"text-align: right;\">\n",
       "      <th></th>\n",
       "      <th>ref_hash</th>\n",
       "      <th>e_t_prom</th>\n",
       "      <th>e_kind</th>\n",
       "      <th>e_app_id</th>\n",
       "      <th>e_eventoId</th>\n",
       "    </tr>\n",
       "  </thead>\n",
       "  <tbody>\n",
       "    <tr>\n",
       "      <th>0</th>\n",
       "      <td>41863526108385</td>\n",
       "      <td>140062.647727</td>\n",
       "      <td>0.126640</td>\n",
       "      <td>0.211054</td>\n",
       "      <td>11.105743</td>\n",
       "    </tr>\n",
       "    <tr>\n",
       "      <th>1</th>\n",
       "      <td>161514654074162</td>\n",
       "      <td>147937.250000</td>\n",
       "      <td>0.057634</td>\n",
       "      <td>0.087007</td>\n",
       "      <td>0.470373</td>\n",
       "    </tr>\n",
       "    <tr>\n",
       "      <th>2</th>\n",
       "      <td>186034136943920</td>\n",
       "      <td>60125.769231</td>\n",
       "      <td>0.148482</td>\n",
       "      <td>0.253877</td>\n",
       "      <td>1.923081</td>\n",
       "    </tr>\n",
       "    <tr>\n",
       "      <th>3</th>\n",
       "      <td>360710529886978</td>\n",
       "      <td>214874.000000</td>\n",
       "      <td>0.064439</td>\n",
       "      <td>0.016072</td>\n",
       "      <td>0.197380</td>\n",
       "    </tr>\n",
       "    <tr>\n",
       "      <th>4</th>\n",
       "      <td>365882020742330</td>\n",
       "      <td>151254.982456</td>\n",
       "      <td>0.099017</td>\n",
       "      <td>0.019018</td>\n",
       "      <td>5.624120</td>\n",
       "    </tr>\n",
       "  </tbody>\n",
       "</table>\n",
       "</div>"
      ],
      "text/plain": [
       "          ref_hash       e_t_prom    e_kind  e_app_id  e_eventoId\n",
       "0   41863526108385  140062.647727  0.126640  0.211054   11.105743\n",
       "1  161514654074162  147937.250000  0.057634  0.087007    0.470373\n",
       "2  186034136943920   60125.769231  0.148482  0.253877    1.923081\n",
       "3  360710529886978  214874.000000  0.064439  0.016072    0.197380\n",
       "4  365882020742330  151254.982456  0.099017  0.019018    5.624120"
      ]
     },
     "execution_count": 13,
     "metadata": {},
     "output_type": "execute_result"
    }
   ],
   "source": [
    "events_entrenar = pd.read_csv('events_1820.csv')\n",
    "datetime_inicio = datetime(2019,4,18)\n",
    "f_events = crear_features_events(events_entrenar,datetime_inicio)\n",
    "f_events.to_csv('events_train2_1820.csv', index=False)\n",
    "f_events.head()"
   ]
  },
  {
   "cell_type": "code",
   "execution_count": 14,
   "metadata": {},
   "outputs": [
    {
     "data": {
      "text/html": [
       "<div>\n",
       "<style scoped>\n",
       "    .dataframe tbody tr th:only-of-type {\n",
       "        vertical-align: middle;\n",
       "    }\n",
       "\n",
       "    .dataframe tbody tr th {\n",
       "        vertical-align: top;\n",
       "    }\n",
       "\n",
       "    .dataframe thead th {\n",
       "        text-align: right;\n",
       "    }\n",
       "</style>\n",
       "<table border=\"1\" class=\"dataframe\">\n",
       "  <thead>\n",
       "    <tr style=\"text-align: right;\">\n",
       "      <th></th>\n",
       "      <th>ref_hash</th>\n",
       "      <th>e_t_prom</th>\n",
       "      <th>e_kind</th>\n",
       "      <th>e_app_id</th>\n",
       "      <th>e_eventoId</th>\n",
       "    </tr>\n",
       "  </thead>\n",
       "  <tbody>\n",
       "    <tr>\n",
       "      <th>0</th>\n",
       "      <td>40621409780134</td>\n",
       "      <td>242807.833333</td>\n",
       "      <td>0.005631</td>\n",
       "      <td>0.005478</td>\n",
       "      <td>0.033673</td>\n",
       "    </tr>\n",
       "    <tr>\n",
       "      <th>1</th>\n",
       "      <td>41863526108385</td>\n",
       "      <td>88923.736111</td>\n",
       "      <td>0.147983</td>\n",
       "      <td>0.261183</td>\n",
       "      <td>10.618843</td>\n",
       "    </tr>\n",
       "    <tr>\n",
       "      <th>2</th>\n",
       "      <td>161514654074162</td>\n",
       "      <td>61537.250000</td>\n",
       "      <td>0.056457</td>\n",
       "      <td>0.083004</td>\n",
       "      <td>0.460309</td>\n",
       "    </tr>\n",
       "    <tr>\n",
       "      <th>3</th>\n",
       "      <td>360710529886978</td>\n",
       "      <td>155603.000000</td>\n",
       "      <td>0.070222</td>\n",
       "      <td>0.015924</td>\n",
       "      <td>0.286591</td>\n",
       "    </tr>\n",
       "    <tr>\n",
       "      <th>4</th>\n",
       "      <td>365882020742330</td>\n",
       "      <td>86141.076923</td>\n",
       "      <td>0.099317</td>\n",
       "      <td>0.019578</td>\n",
       "      <td>6.434779</td>\n",
       "    </tr>\n",
       "  </tbody>\n",
       "</table>\n",
       "</div>"
      ],
      "text/plain": [
       "          ref_hash       e_t_prom    e_kind  e_app_id  e_eventoId\n",
       "0   40621409780134  242807.833333  0.005631  0.005478    0.033673\n",
       "1   41863526108385   88923.736111  0.147983  0.261183   10.618843\n",
       "2  161514654074162   61537.250000  0.056457  0.083004    0.460309\n",
       "3  360710529886978  155603.000000  0.070222  0.015924    0.286591\n",
       "4  365882020742330   86141.076923  0.099317  0.019578    6.434779"
      ]
     },
     "execution_count": 14,
     "metadata": {},
     "output_type": "execute_result"
    }
   ],
   "source": [
    "events_entrenar = pd.read_csv('events_1921.csv')\n",
    "datetime_inicio = datetime(2019,4,19)\n",
    "f_events = crear_features_events(events_entrenar,datetime_inicio)\n",
    "f_events.to_csv('events_train2_1921.csv', index=False)\n",
    "f_events.head()"
   ]
  },
  {
   "cell_type": "code",
   "execution_count": 15,
   "metadata": {},
   "outputs": [
    {
     "data": {
      "text/html": [
       "<div>\n",
       "<style scoped>\n",
       "    .dataframe tbody tr th:only-of-type {\n",
       "        vertical-align: middle;\n",
       "    }\n",
       "\n",
       "    .dataframe tbody tr th {\n",
       "        vertical-align: top;\n",
       "    }\n",
       "\n",
       "    .dataframe thead th {\n",
       "        text-align: right;\n",
       "    }\n",
       "</style>\n",
       "<table border=\"1\" class=\"dataframe\">\n",
       "  <thead>\n",
       "    <tr style=\"text-align: right;\">\n",
       "      <th></th>\n",
       "      <th>ref_hash</th>\n",
       "      <th>e_t_prom</th>\n",
       "      <th>e_kind</th>\n",
       "      <th>e_app_id</th>\n",
       "      <th>e_eventoId</th>\n",
       "    </tr>\n",
       "  </thead>\n",
       "  <tbody>\n",
       "    <tr>\n",
       "      <th>0</th>\n",
       "      <td>40621409780134</td>\n",
       "      <td>156407.833333</td>\n",
       "      <td>0.005677</td>\n",
       "      <td>0.005505</td>\n",
       "      <td>0.033952</td>\n",
       "    </tr>\n",
       "    <tr>\n",
       "      <th>1</th>\n",
       "      <td>41863526108385</td>\n",
       "      <td>31455.568627</td>\n",
       "      <td>0.146337</td>\n",
       "      <td>0.262990</td>\n",
       "      <td>7.438730</td>\n",
       "    </tr>\n",
       "    <tr>\n",
       "      <th>2</th>\n",
       "      <td>161514654074162</td>\n",
       "      <td>241464.294118</td>\n",
       "      <td>0.091154</td>\n",
       "      <td>0.088657</td>\n",
       "      <td>4.650622</td>\n",
       "    </tr>\n",
       "    <tr>\n",
       "      <th>3</th>\n",
       "      <td>168103949904656</td>\n",
       "      <td>173599.100000</td>\n",
       "      <td>0.090038</td>\n",
       "      <td>0.035244</td>\n",
       "      <td>0.919221</td>\n",
       "    </tr>\n",
       "    <tr>\n",
       "      <th>4</th>\n",
       "      <td>186034136943920</td>\n",
       "      <td>237222.571429</td>\n",
       "      <td>0.133386</td>\n",
       "      <td>0.262990</td>\n",
       "      <td>3.722590</td>\n",
       "    </tr>\n",
       "  </tbody>\n",
       "</table>\n",
       "</div>"
      ],
      "text/plain": [
       "          ref_hash       e_t_prom    e_kind  e_app_id  e_eventoId\n",
       "0   40621409780134  156407.833333  0.005677  0.005505    0.033952\n",
       "1   41863526108385   31455.568627  0.146337  0.262990    7.438730\n",
       "2  161514654074162  241464.294118  0.091154  0.088657    4.650622\n",
       "3  168103949904656  173599.100000  0.090038  0.035244    0.919221\n",
       "4  186034136943920  237222.571429  0.133386  0.262990    3.722590"
      ]
     },
     "execution_count": 15,
     "metadata": {},
     "output_type": "execute_result"
    }
   ],
   "source": [
    "events_entrenar = pd.read_csv('events_2022.csv')\n",
    "datetime_inicio = datetime(2019,4,20)\n",
    "f_events = crear_features_events(events_entrenar,datetime_inicio)\n",
    "f_events.to_csv('events_train2_2022.csv', index=False)\n",
    "f_events.head()"
   ]
  },
  {
   "cell_type": "code",
   "execution_count": 16,
   "metadata": {},
   "outputs": [
    {
     "data": {
      "text/html": [
       "<div>\n",
       "<style scoped>\n",
       "    .dataframe tbody tr th:only-of-type {\n",
       "        vertical-align: middle;\n",
       "    }\n",
       "\n",
       "    .dataframe tbody tr th {\n",
       "        vertical-align: top;\n",
       "    }\n",
       "\n",
       "    .dataframe thead th {\n",
       "        text-align: right;\n",
       "    }\n",
       "</style>\n",
       "<table border=\"1\" class=\"dataframe\">\n",
       "  <thead>\n",
       "    <tr style=\"text-align: right;\">\n",
       "      <th></th>\n",
       "      <th>ref_hash</th>\n",
       "      <th>e_t_prom</th>\n",
       "      <th>e_kind</th>\n",
       "      <th>e_app_id</th>\n",
       "      <th>e_eventoId</th>\n",
       "    </tr>\n",
       "  </thead>\n",
       "  <tbody>\n",
       "    <tr>\n",
       "      <th>0</th>\n",
       "      <td>40621409780134</td>\n",
       "      <td>122304.666667</td>\n",
       "      <td>0.008657</td>\n",
       "      <td>0.005934</td>\n",
       "      <td>0.077695</td>\n",
       "    </tr>\n",
       "    <tr>\n",
       "      <th>1</th>\n",
       "      <td>41863526108385</td>\n",
       "      <td>9126.125000</td>\n",
       "      <td>0.085450</td>\n",
       "      <td>0.264696</td>\n",
       "      <td>0.681199</td>\n",
       "    </tr>\n",
       "    <tr>\n",
       "      <th>2</th>\n",
       "      <td>69039685746313</td>\n",
       "      <td>235984.500000</td>\n",
       "      <td>0.044512</td>\n",
       "      <td>0.028056</td>\n",
       "      <td>0.177472</td>\n",
       "    </tr>\n",
       "    <tr>\n",
       "      <th>3</th>\n",
       "      <td>161514654074162</td>\n",
       "      <td>165162.413793</td>\n",
       "      <td>0.093511</td>\n",
       "      <td>0.083326</td>\n",
       "      <td>5.427672</td>\n",
       "    </tr>\n",
       "    <tr>\n",
       "      <th>4</th>\n",
       "      <td>168103949904656</td>\n",
       "      <td>87199.100000</td>\n",
       "      <td>0.087588</td>\n",
       "      <td>0.034847</td>\n",
       "      <td>0.896247</td>\n",
       "    </tr>\n",
       "  </tbody>\n",
       "</table>\n",
       "</div>"
      ],
      "text/plain": [
       "          ref_hash       e_t_prom    e_kind  e_app_id  e_eventoId\n",
       "0   40621409780134  122304.666667  0.008657  0.005934    0.077695\n",
       "1   41863526108385    9126.125000  0.085450  0.264696    0.681199\n",
       "2   69039685746313  235984.500000  0.044512  0.028056    0.177472\n",
       "3  161514654074162  165162.413793  0.093511  0.083326    5.427672\n",
       "4  168103949904656   87199.100000  0.087588  0.034847    0.896247"
      ]
     },
     "execution_count": 16,
     "metadata": {},
     "output_type": "execute_result"
    }
   ],
   "source": [
    "events_entrenar = pd.read_csv('events_2123.csv')\n",
    "datetime_inicio = datetime(2019,4,21)\n",
    "f_events = crear_features_events(events_entrenar,datetime_inicio)\n",
    "f_events.to_csv('events_train2_2123.csv', index=False)\n",
    "f_events.head()"
   ]
  },
  {
   "cell_type": "code",
   "execution_count": 17,
   "metadata": {},
   "outputs": [
    {
     "data": {
      "text/html": [
       "<div>\n",
       "<style scoped>\n",
       "    .dataframe tbody tr th:only-of-type {\n",
       "        vertical-align: middle;\n",
       "    }\n",
       "\n",
       "    .dataframe tbody tr th {\n",
       "        vertical-align: top;\n",
       "    }\n",
       "\n",
       "    .dataframe thead th {\n",
       "        text-align: right;\n",
       "    }\n",
       "</style>\n",
       "<table border=\"1\" class=\"dataframe\">\n",
       "  <thead>\n",
       "    <tr style=\"text-align: right;\">\n",
       "      <th></th>\n",
       "      <th>ref_hash</th>\n",
       "      <th>e_t_prom</th>\n",
       "      <th>e_kind</th>\n",
       "      <th>e_app_id</th>\n",
       "      <th>e_eventoId</th>\n",
       "    </tr>\n",
       "  </thead>\n",
       "  <tbody>\n",
       "    <tr>\n",
       "      <th>0</th>\n",
       "      <td>41863526108385</td>\n",
       "      <td>192838.719298</td>\n",
       "      <td>0.135702</td>\n",
       "      <td>0.222804</td>\n",
       "      <td>7.702390</td>\n",
       "    </tr>\n",
       "    <tr>\n",
       "      <th>1</th>\n",
       "      <td>69039685746313</td>\n",
       "      <td>229631.812500</td>\n",
       "      <td>0.061761</td>\n",
       "      <td>0.029999</td>\n",
       "      <td>0.984140</td>\n",
       "    </tr>\n",
       "    <tr>\n",
       "      <th>2</th>\n",
       "      <td>90072729247980</td>\n",
       "      <td>66661.000000</td>\n",
       "      <td>0.048354</td>\n",
       "      <td>0.222804</td>\n",
       "      <td>0.144452</td>\n",
       "    </tr>\n",
       "    <tr>\n",
       "      <th>3</th>\n",
       "      <td>161514654074162</td>\n",
       "      <td>154222.500000</td>\n",
       "      <td>0.084897</td>\n",
       "      <td>0.089999</td>\n",
       "      <td>0.174180</td>\n",
       "    </tr>\n",
       "    <tr>\n",
       "      <th>4</th>\n",
       "      <td>168103949904656</td>\n",
       "      <td>109329.666667</td>\n",
       "      <td>0.084897</td>\n",
       "      <td>0.032703</td>\n",
       "      <td>0.261271</td>\n",
       "    </tr>\n",
       "  </tbody>\n",
       "</table>\n",
       "</div>"
      ],
      "text/plain": [
       "          ref_hash       e_t_prom    e_kind  e_app_id  e_eventoId\n",
       "0   41863526108385  192838.719298  0.135702  0.222804    7.702390\n",
       "1   69039685746313  229631.812500  0.061761  0.029999    0.984140\n",
       "2   90072729247980   66661.000000  0.048354  0.222804    0.144452\n",
       "3  161514654074162  154222.500000  0.084897  0.089999    0.174180\n",
       "4  168103949904656  109329.666667  0.084897  0.032703    0.261271"
      ]
     },
     "execution_count": 17,
     "metadata": {},
     "output_type": "execute_result"
    }
   ],
   "source": [
    "events_entrenar = pd.read_csv('events_2426.csv')\n",
    "datetime_inicio = datetime(2019,4,24)\n",
    "f_events = crear_features_events(events_entrenar,datetime_inicio)\n",
    "f_events.to_csv('events_train2_2426.csv', index=False)\n",
    "f_events.head()"
   ]
  },
  {
   "cell_type": "code",
   "execution_count": null,
   "metadata": {},
   "outputs": [],
   "source": []
  }
 ],
 "metadata": {
  "kernelspec": {
   "display_name": "Python 2",
   "language": "python",
   "name": "python2"
  },
  "language_info": {
   "codemirror_mode": {
    "name": "ipython",
    "version": 2
   },
   "file_extension": ".py",
   "mimetype": "text/x-python",
   "name": "python",
   "nbconvert_exporter": "python",
   "pygments_lexer": "ipython2",
   "version": "2.7.15+"
  }
 },
 "nbformat": 4,
 "nbformat_minor": 2
}
