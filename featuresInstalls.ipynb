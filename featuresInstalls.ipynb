{
 "cells": [
  {
   "cell_type": "code",
   "execution_count": 1,
   "metadata": {},
   "outputs": [],
   "source": [
    "import pandas as pd\n",
    "import numpy as np\n",
    "from datetime import datetime, date"
   ]
  },
  {
   "cell_type": "code",
   "execution_count": 3,
   "metadata": {},
   "outputs": [
    {
     "name": "stderr",
     "output_type": "stream",
     "text": [
      "/home/cecilia/.local/lib/python2.7/site-packages/IPython/core/interactiveshell.py:2714: DtypeWarning: Columns (4,15) have mixed types. Specify dtype option on import or set low_memory=False.\n",
      "  interactivity=interactivity, compiler=compiler, result=result)\n"
     ]
    }
   ],
   "source": [
    "installs = pd.read_csv(\"installs.csv.gzip\", compression='gzip')"
   ]
  },
  {
   "cell_type": "code",
   "execution_count": 4,
   "metadata": {},
   "outputs": [
    {
     "data": {
      "text/plain": [
       "created                    0\n",
       "application_id             0\n",
       "ref_type                   0\n",
       "ref_hash                   0\n",
       "click_hash            480369\n",
       "attributed                 0\n",
       "implicit                   0\n",
       "device_countrycode         0\n",
       "device_brand          205068\n",
       "device_model           26892\n",
       "session_user_agent     14839\n",
       "user_agent            150743\n",
       "event_uuid            378343\n",
       "kind                  378343\n",
       "wifi                  186682\n",
       "trans_id              472578\n",
       "ip_address                 0\n",
       "device_language        27577\n",
       "dtype: int64"
      ]
     },
     "execution_count": 4,
     "metadata": {},
     "output_type": "execute_result"
    }
   ],
   "source": [
    "installs.isnull().sum()"
   ]
  },
  {
   "cell_type": "code",
   "execution_count": 6,
   "metadata": {},
   "outputs": [
    {
     "data": {
      "text/plain": [
       "(481511, 18)"
      ]
     },
     "execution_count": 6,
     "metadata": {},
     "output_type": "execute_result"
    }
   ],
   "source": [
    "installs.shape"
   ]
  },
  {
   "cell_type": "code",
   "execution_count": 8,
   "metadata": {},
   "outputs": [
    {
     "data": {
      "text/plain": [
       "121    71487\n",
       "36     64471\n",
       "210    33672\n",
       "14     25630\n",
       "65     23067\n",
       "68     18762\n",
       "122    15170\n",
       "155    13629\n",
       "226    13469\n",
       "21     12184\n",
       "Name: application_id, dtype: int64"
      ]
     },
     "execution_count": 8,
     "metadata": {},
     "output_type": "execute_result"
    }
   ],
   "source": [
    "installs['application_id'].value_counts().head(10)"
   ]
  },
  {
   "cell_type": "code",
   "execution_count": 9,
   "metadata": {},
   "outputs": [
    {
     "data": {
      "text/plain": [
       "1891515180541284343    398906\n",
       "1494519392962156891     82605\n",
       "Name: ref_type, dtype: int64"
      ]
     },
     "execution_count": 9,
     "metadata": {},
     "output_type": "execute_result"
    }
   ],
   "source": [
    "installs['ref_type'].value_counts()"
   ]
  },
  {
   "cell_type": "code",
   "execution_count": 10,
   "metadata": {},
   "outputs": [
    {
     "data": {
      "text/plain": [
       "False    480369\n",
       "True       1142\n",
       "Name: attributed, dtype: int64"
      ]
     },
     "execution_count": 10,
     "metadata": {},
     "output_type": "execute_result"
    }
   ],
   "source": [
    "installs['attributed'].value_counts()"
   ]
  },
  {
   "cell_type": "code",
   "execution_count": 11,
   "metadata": {},
   "outputs": [
    {
     "data": {
      "text/plain": [
       "False    378343\n",
       "True     103168\n",
       "Name: implicit, dtype: int64"
      ]
     },
     "execution_count": 11,
     "metadata": {},
     "output_type": "execute_result"
    }
   ],
   "source": [
    "installs['implicit'].value_counts()"
   ]
  },
  {
   "cell_type": "code",
   "execution_count": 12,
   "metadata": {},
   "outputs": [
    {
     "data": {
      "text/plain": [
       "6287817205707153877    481511\n",
       "Name: device_countrycode, dtype: int64"
      ]
     },
     "execution_count": 12,
     "metadata": {},
     "output_type": "execute_result"
    }
   ],
   "source": [
    "installs['device_countrycode'].value_counts()"
   ]
  },
  {
   "cell_type": "code",
   "execution_count": 14,
   "metadata": {},
   "outputs": [
    {
     "data": {
      "text/plain": [
       "6.794880e+18    46187\n",
       "9.186120e+18    13271\n",
       "5.660121e+18     8562\n",
       "3.057402e+18     7384\n",
       "7.346301e+18     6233\n",
       "2.544397e+18     5635\n",
       "5.127788e+18     5609\n",
       "3.017401e+18     5297\n",
       "9.173807e+18     5242\n",
       "1.670346e+18     5158\n",
       "Name: device_model, dtype: int64"
      ]
     },
     "execution_count": 14,
     "metadata": {},
     "output_type": "execute_result"
    }
   ],
   "source": [
    "installs['device_model'].value_counts().head(10)"
   ]
  },
  {
   "cell_type": "code",
   "execution_count": 16,
   "metadata": {},
   "outputs": [
    {
     "data": {
      "text/plain": [
       "True     235130\n",
       "False     59699\n",
       "Name: wifi, dtype: int64"
      ]
     },
     "execution_count": 16,
     "metadata": {},
     "output_type": "execute_result"
    }
   ],
   "source": [
    "installs['wifi'].value_counts()"
   ]
  },
  {
   "cell_type": "code",
   "execution_count": 19,
   "metadata": {},
   "outputs": [
    {
     "data": {
      "text/plain": [
       "6.977049e+18    233012\n",
       "3.301378e+18    149638\n",
       "8.441417e+18     46449\n",
       "6.584214e+18      6041\n",
       "4.060930e+18      5222\n",
       "5.221863e+18      3867\n",
       "1.774282e+18      2565\n",
       "7.528974e+18      1778\n",
       "3.491909e+18      1490\n",
       "2.938044e+18       902\n",
       "Name: device_language, dtype: int64"
      ]
     },
     "execution_count": 19,
     "metadata": {},
     "output_type": "execute_result"
    }
   ],
   "source": [
    "installs['device_language'].value_counts().head(10)"
   ]
  },
  {
   "cell_type": "code",
   "execution_count": null,
   "metadata": {},
   "outputs": [],
   "source": [
    "def crear_features_installs(installs_entrenar,datetime_inicio):\n",
    "    installs_entrenar['date'] = pd.to_datetime(installs_entrenar['date'])\n",
    "    \n",
    "    dia_en_segundos = 86400\n",
    "    installs_entrenar['segundos'] = ((installs_entrenar['date']-datetime_inicio).dt.seconds + \n",
    "                                     (installs_entrenar['date']-datetime_inicio).dt.days*dia_en_segundos)\n",
    "\n",
    "    \n",
    "    # Cambio application_id por la probabilidad de que aparezca esa aplicacion\n",
    "    aplicacion = events_entrenar['application_id'].value_counts(normalize=True)\n",
    "    installs_entrenar['application_id'] = installs_entrenar['application_id'].replace(aplicacion)\n",
    "        \n",
    "    # Cambio device_model por la probabilidad de que aparezca ese modelo\n",
    "    modelo = installs_entrenar['device_model'].value_counts(normalize=True)\n",
    "    installs_entrenar['device_model'] = installs_entrenar['device_model'].replace(modelo)\n",
    "    \n",
    "    # Cambio device_language por la probabilidad de que aparezca ese lenguaje\n",
    "    lenguaje = installs_entrenar['device_language'].value_counts(normalize=True)\n",
    "    installs_entrenar['device_language'] = installs_entrenar['device_language'].replace(lenguaje)\n",
    "    \n",
    "    # Cambio ref_type por la probabilidad de que aparezca ese ref_type\n",
    "    tipo = installs_entrenar['ref_type'].value_counts(normalize=True)\n",
    "    installs_entrenar['ref_type'] = installs_entrenar['ref_type'].replace(tipo)\n",
    "    \n",
    "\n",
    "    # Agrupo el data frame por los ref_hash\n",
    "    installs_entrenar = installs_entrenar.groupby('ref_hash').agg({'ref_hash':'count','attributed':'sum',\n",
    "                                                               'wifi':'sum','implicit':'sum',\n",
    "                                                               'application_id':'mean','device_model':'mean',\n",
    "                                                               'device_language':'mean','ref_type':'mean',\n",
    "                                                               'segundos':['min','mean','max']})\n",
    "    \n",
    "    installs_entrenar.columns = ['e_kind','e_app_id','e_event_id','e_#wifi','e_#atribuidos','e_#eventos','e_t_prom']\n",
    "    installs_entrenar = installs_entrenar.reset_index('ref_hash')\n",
    "          \n",
    "    return installs_entrenar"
   ]
  }
 ],
 "metadata": {
  "kernelspec": {
   "display_name": "Python 3",
   "language": "python",
   "name": "python3"
  },
  "language_info": {
   "codemirror_mode": {
    "name": "ipython",
    "version": 2
   },
   "file_extension": ".py",
   "mimetype": "text/x-python",
   "name": "python",
   "nbconvert_exporter": "python",
   "pygments_lexer": "ipython2",
   "version": "2.7.15rc1"
  }
 },
 "nbformat": 4,
 "nbformat_minor": 2
}
