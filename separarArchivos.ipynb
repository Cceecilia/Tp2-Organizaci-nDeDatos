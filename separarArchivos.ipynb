{
 "cells": [
  {
   "cell_type": "code",
   "execution_count": 1,
   "metadata": {},
   "outputs": [],
   "source": [
    "import pandas as pd\n",
    "import numpy as np\n",
    "from datetime import datetime, date, timedelta"
   ]
  },
  {
   "cell_type": "code",
   "execution_count": 2,
   "metadata": {},
   "outputs": [],
   "source": [
    "archivo = pd.read_csv(\"auctions.csv\")"
   ]
  },
  {
   "cell_type": "code",
   "execution_count": null,
   "metadata": {},
   "outputs": [],
   "source": [
    "archivo['date'] = pd.to_datetime(archivo['date'])\n",
    "archivo['fecha'] = archivo['date'].dt.date"
   ]
  },
  {
   "cell_type": "code",
   "execution_count": 5,
   "metadata": {},
   "outputs": [],
   "source": [
    "archivo_1820 = archivo[archivo['fecha'] <= date(2019,4,20)]\n",
    "archivo_1921 = archivo[(archivo['fecha']>=date(2019,4,19)) & (archivo['fecha']<=date(2019,4,21))]\n",
    "archivo_2022 = archivo[(archivo['fecha']>=date(2019,4,20)) & (archivo['fecha']<=date(2019,4,22))]\n",
    "archivo_2123 = archivo[(archivo['fecha']>=date(2019,4,21)) & (archivo['fecha']<=date(2019,4,23))]\n",
    "archivo_2224 = archivo[(archivo['fecha']>=date(2019,4,22)) & (archivo['fecha']<=date(2019,4,24))]\n",
    "archivo_2325 = archivo[(archivo['fecha']>=date(2019,4,23)) & (archivo['fecha']<=date(2019,4,25))]\n",
    "archivo_2426 = archivo[archivo['fecha']>=date(2019,4,24)] "
   ]
  },
  {
   "cell_type": "code",
   "execution_count": 6,
   "metadata": {},
   "outputs": [],
   "source": [
    "archivo_1820.to_csv('auctions_1820.csv', index=False)\n",
    "archivo_1921.to_csv('auctions_1921.csv', index=False)\n",
    "archivo_2022.to_csv('auctions_2022.csv', index=False)\n",
    "archivo_2123.to_csv('auctions_2123.csv', index=False)\n",
    "archivo_2224.to_csv('auctions_2224.csv', index=False)\n",
    "archivo_2325.to_csv('auctions_2325.csv', index=False)\n",
    "archivo_2426.to_csv('auctions_2426.csv', index=False)"
   ]
  },
  {
   "cell_type": "code",
   "execution_count": 2,
   "metadata": {},
   "outputs": [
    {
     "name": "stderr",
     "output_type": "stream",
     "text": [
      "/home/cecilia/.local/lib/python2.7/site-packages/IPython/core/interactiveshell.py:2714: DtypeWarning: Columns (13,20) have mixed types. Specify dtype option on import or set low_memory=False.\n",
      "  interactivity=interactivity, compiler=compiler, result=result)\n"
     ]
    }
   ],
   "source": [
    "archivo = pd.read_csv(\"events.csv\")"
   ]
  },
  {
   "cell_type": "code",
   "execution_count": 3,
   "metadata": {},
   "outputs": [],
   "source": [
    "archivo['date'] = pd.to_datetime(archivo['date'])\n",
    "archivo['fecha'] = archivo['date'].dt.date"
   ]
  },
  {
   "cell_type": "code",
   "execution_count": 8,
   "metadata": {},
   "outputs": [],
   "source": [
    "archivo_1820 = archivo[archivo['fecha'] <= date(2019,4,20)]\n",
    "archivo_1921 = archivo[(archivo['fecha']>=date(2019,4,19)) & (archivo['fecha']<=date(2019,4,21))]\n",
    "archivo_2022 = archivo[(archivo['fecha']>=date(2019,4,20)) & (archivo['fecha']<=date(2019,4,22))]\n",
    "archivo_2123 = archivo[(archivo['fecha']>=date(2019,4,21)) & (archivo['fecha']<=date(2019,4,23))]\n",
    "archivo_2224 = archivo[(archivo['fecha']>=date(2019,4,22)) & (archivo['fecha']<=date(2019,4,24))]\n",
    "archivo_2325 = archivo[(archivo['fecha']>=date(2019,4,23)) & (archivo['fecha']<=date(2019,4,25))]\n",
    "archivo_2426 = archivo[archivo['fecha']>=date(2019,4,24)] "
   ]
  },
  {
   "cell_type": "code",
   "execution_count": 5,
   "metadata": {},
   "outputs": [],
   "source": [
    "archivo_1820.to_csv('events_1820.csv', index=False)\n",
    "archivo_1921.to_csv('events_1921.csv', index=False)\n",
    "archivo_2022.to_csv('events_2022.csv', index=False)\n",
    "archivo_2123.to_csv('events_2123.csv', index=False)\n",
    "archivo_2224.to_csv('events_2224.csv', index=False)\n",
    "archivo_2325.to_csv('events_2325.csv', index=False)\n",
    "archivo_2426.to_csv('events_2426.csv', index=False)"
   ]
  },
  {
   "cell_type": "code",
   "execution_count": 3,
   "metadata": {},
   "outputs": [
    {
     "name": "stderr",
     "output_type": "stream",
     "text": [
      "/home/cecilia/.local/lib/python2.7/site-packages/IPython/core/interactiveshell.py:2714: DtypeWarning: Columns (4,15) have mixed types. Specify dtype option on import or set low_memory=False.\n",
      "  interactivity=interactivity, compiler=compiler, result=result)\n"
     ]
    }
   ],
   "source": [
    "archivo = pd.read_csv('installs.csv.gzip', compression='gzip')"
   ]
  },
  {
   "cell_type": "code",
   "execution_count": 11,
   "metadata": {},
   "outputs": [],
   "source": [
    "archivo['created'] = pd.to_datetime(archivo['created'])\n",
    "archivo['fecha'] = archivo['created'].dt.date"
   ]
  },
  {
   "cell_type": "code",
   "execution_count": 9,
   "metadata": {},
   "outputs": [],
   "source": [
    "archivo_1820.to_csv('installs_1820.csv', index=False)\n",
    "archivo_1921.to_csv('installs_1921.csv', index=False)\n",
    "archivo_2022.to_csv('installs_2022.csv', index=False)\n",
    "archivo_2123.to_csv('installs_2123.csv', index=False)\n",
    "archivo_2224.to_csv('installs_2224.csv', index=False)\n",
    "archivo_2325.to_csv('installs_2325.csv', index=False)\n",
    "archivo_2426.to_csv('installs_2426.csv', index=False)"
   ]
  },
  {
   "cell_type": "code",
   "execution_count": 10,
   "metadata": {},
   "outputs": [
    {
     "name": "stderr",
     "output_type": "stream",
     "text": [
      "/home/cecilia/.local/lib/python2.7/site-packages/IPython/core/interactiveshell.py:2714: DtypeWarning: Columns (16,17) have mixed types. Specify dtype option on import or set low_memory=False.\n",
      "  interactivity=interactivity, compiler=compiler, result=result)\n"
     ]
    }
   ],
   "source": [
    "archivo = pd.read_csv('clicks.csv.gzip', compression='gzip')"
   ]
  },
  {
   "cell_type": "code",
   "execution_count": 12,
   "metadata": {},
   "outputs": [],
   "source": [
    "archivo_1820.to_csv('clicks_1820.csv', index=False)\n",
    "archivo_1921.to_csv('clicks_1921.csv', index=False)\n",
    "archivo_2022.to_csv('clicks_2022.csv', index=False)\n",
    "archivo_2123.to_csv('clicks_2123.csv', index=False)\n",
    "archivo_2224.to_csv('clicks_2224.csv', index=False)\n",
    "archivo_2325.to_csv('clicks_2325.csv', index=False)\n",
    "archivo_2426.to_csv('clicks_2426.csv', index=False)"
   ]
  },
  {
   "cell_type": "code",
   "execution_count": null,
   "metadata": {},
   "outputs": [],
   "source": []
  }
 ],
 "metadata": {
  "kernelspec": {
   "display_name": "Python 2",
   "language": "python",
   "name": "python2"
  },
  "language_info": {
   "codemirror_mode": {
    "name": "ipython",
    "version": 2
   },
   "file_extension": ".py",
   "mimetype": "text/x-python",
   "name": "python",
   "nbconvert_exporter": "python",
   "pygments_lexer": "ipython2",
   "version": "2.7.15+"
  }
 },
 "nbformat": 4,
 "nbformat_minor": 2
}
